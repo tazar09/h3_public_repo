{
  "nbformat": 4,
  "nbformat_minor": 0,
  "metadata": {
    "colab": {
      "provenance": [],
      "toc_visible": true,
      "include_colab_link": true
    },
    "kernelspec": {
      "name": "python3",
      "display_name": "Python 3"
    },
    "language_info": {
      "name": "python"
    }
  },
  "cells": [
    {
      "cell_type": "markdown",
      "metadata": {
        "id": "view-in-github",
        "colab_type": "text"
      },
      "source": [
        "<a href=\"https://colab.research.google.com/github/tazar09/h3_public_repo/blob/main/h3_ds_dec2024.ipynb\" target=\"_parent\"><img src=\"https://colab.research.google.com/assets/colab-badge.svg\" alt=\"Open In Colab\"/></a>"
      ]
    },
    {
      "cell_type": "markdown",
      "source": [
        "# Requirements"
      ],
      "metadata": {
        "id": "BJCR2h1ahYA-"
      }
    },
    {
      "cell_type": "code",
      "source": [
        "pip install adjusttext"
      ],
      "metadata": {
        "id": "skNsrt4Fg9d9",
        "outputId": "3abb9ec5-2170-4802-dbb0-bd9d92a6f243",
        "colab": {
          "base_uri": "https://localhost:8080/"
        }
      },
      "execution_count": 92,
      "outputs": [
        {
          "output_type": "stream",
          "name": "stdout",
          "text": [
            "Requirement already satisfied: adjusttext in /usr/local/lib/python3.10/dist-packages (1.3.0)\n",
            "Requirement already satisfied: numpy in /usr/local/lib/python3.10/dist-packages (from adjusttext) (1.26.4)\n",
            "Requirement already satisfied: matplotlib in /usr/local/lib/python3.10/dist-packages (from adjusttext) (3.8.0)\n",
            "Requirement already satisfied: scipy in /usr/local/lib/python3.10/dist-packages (from adjusttext) (1.13.1)\n",
            "Requirement already satisfied: contourpy>=1.0.1 in /usr/local/lib/python3.10/dist-packages (from matplotlib->adjusttext) (1.3.1)\n",
            "Requirement already satisfied: cycler>=0.10 in /usr/local/lib/python3.10/dist-packages (from matplotlib->adjusttext) (0.12.1)\n",
            "Requirement already satisfied: fonttools>=4.22.0 in /usr/local/lib/python3.10/dist-packages (from matplotlib->adjusttext) (4.55.3)\n",
            "Requirement already satisfied: kiwisolver>=1.0.1 in /usr/local/lib/python3.10/dist-packages (from matplotlib->adjusttext) (1.4.7)\n",
            "Requirement already satisfied: packaging>=20.0 in /usr/local/lib/python3.10/dist-packages (from matplotlib->adjusttext) (24.2)\n",
            "Requirement already satisfied: pillow>=6.2.0 in /usr/local/lib/python3.10/dist-packages (from matplotlib->adjusttext) (11.0.0)\n",
            "Requirement already satisfied: pyparsing>=2.3.1 in /usr/local/lib/python3.10/dist-packages (from matplotlib->adjusttext) (3.2.0)\n",
            "Requirement already satisfied: python-dateutil>=2.7 in /usr/local/lib/python3.10/dist-packages (from matplotlib->adjusttext) (2.8.2)\n",
            "Requirement already satisfied: six>=1.5 in /usr/local/lib/python3.10/dist-packages (from python-dateutil>=2.7->matplotlib->adjusttext) (1.17.0)\n"
          ]
        }
      ]
    },
    {
      "cell_type": "code",
      "source": [
        "import pandas as pd\n",
        "import numpy as np\n",
        "pd.set_option('display.max_rows', 500)\n",
        "import matplotlib.pyplot as plt\n",
        "import seaborn as sns\n",
        "from sklearn.preprocessing import StandardScaler\n",
        "import warnings\n",
        "warnings.filterwarnings('ignore')\n",
        "from adjustText import adjust_text"
      ],
      "metadata": {
        "id": "ql7jRVHeqieU"
      },
      "execution_count": 93,
      "outputs": []
    },
    {
      "cell_type": "markdown",
      "source": [
        "# Getting the data from the website"
      ],
      "metadata": {
        "id": "iuFxHq_xhIoX"
      }
    },
    {
      "cell_type": "code",
      "source": [
        "list_of_castles = ['Castle', 'Rampart', 'Tower', 'Inferno', 'Necropolis', 'Dungeon', 'Stronghold', 'Fortress', 'Conflux', 'Cove', 'Factory']\n",
        "url = 'https://heroes.thelazy.net/index.php/'"
      ],
      "metadata": {
        "id": "i9uutri8Q7JO"
      },
      "execution_count": 94,
      "outputs": []
    },
    {
      "cell_type": "code",
      "source": [
        "url_castles = []\n",
        "for x in list_of_castles:\n",
        "  url_castles.append(url + x)\n",
        "url_castles"
      ],
      "metadata": {
        "colab": {
          "base_uri": "https://localhost:8080/"
        },
        "id": "lzaMXWMmRsuo",
        "outputId": "1a8d69b1-c7d2-43cd-c2a2-1b1a647af9c3"
      },
      "execution_count": 95,
      "outputs": [
        {
          "output_type": "execute_result",
          "data": {
            "text/plain": [
              "['https://heroes.thelazy.net/index.php/Castle',\n",
              " 'https://heroes.thelazy.net/index.php/Rampart',\n",
              " 'https://heroes.thelazy.net/index.php/Tower',\n",
              " 'https://heroes.thelazy.net/index.php/Inferno',\n",
              " 'https://heroes.thelazy.net/index.php/Necropolis',\n",
              " 'https://heroes.thelazy.net/index.php/Dungeon',\n",
              " 'https://heroes.thelazy.net/index.php/Stronghold',\n",
              " 'https://heroes.thelazy.net/index.php/Fortress',\n",
              " 'https://heroes.thelazy.net/index.php/Conflux',\n",
              " 'https://heroes.thelazy.net/index.php/Cove',\n",
              " 'https://heroes.thelazy.net/index.php/Factory']"
            ]
          },
          "metadata": {},
          "execution_count": 95
        }
      ]
    },
    {
      "cell_type": "code",
      "source": [
        "dfs = []\n",
        "for x in url_castles:\n",
        "  # match_castle = str(list_of_castles[0]) + ' ' + 'creatures'\n",
        "  df = pd.read_html(x)[-3]\n",
        "  dfs.append(df)"
      ],
      "metadata": {
        "id": "VyW-DyWzMQcj"
      },
      "execution_count": 96,
      "outputs": []
    },
    {
      "cell_type": "markdown",
      "source": [
        "# Castles"
      ],
      "metadata": {
        "id": "Et7YhVVYhnGt"
      }
    },
    {
      "cell_type": "markdown",
      "source": [
        "1. Castle"
      ],
      "metadata": {
        "id": "-UGeU_l4VP7R"
      }
    },
    {
      "cell_type": "code",
      "source": [
        "df_castle = pd.DataFrame(dfs[0])\n",
        "# df_castle.columns = df_castle.columns.droplevel()\n",
        "df_castle['Town'] = 'Castle'\n",
        "df_castle"
      ],
      "metadata": {
        "id": "GsuV9AXdRrXO",
        "colab": {
          "base_uri": "https://localhost:8080/",
          "height": 520
        },
        "outputId": "8a6c5e56-45a9-4c61-c5fe-5eff1fa6e79b"
      },
      "execution_count": 97,
      "outputs": [
        {
          "output_type": "execute_result",
          "data": {
            "text/plain": [
              "                           Name    Town  Lvl   Att   Def  Dmg-  Dmg+     HP  \\\n",
              "0                           NaN  Castle  NaN   NaN   NaN   NaN   NaN    NaN   \n",
              "1               Pikeman Pikeman  Castle    1   4.0   5.0   1.0   3.0   10.0   \n",
              "2         Halberdier Halberdier  Castle   1+   6.0   5.0   2.0   3.0   10.0   \n",
              "3                 Archer Archer  Castle    2   6.0   3.0   2.0   3.0   10.0   \n",
              "4             Marksman Marksman  Castle   2+   6.0   3.0   2.0   3.0   10.0   \n",
              "5               Griffin Griffin  Castle    3   8.0   8.0   3.0   6.0   25.0   \n",
              "6   Royal Griffin Royal Griffin  Castle   3+   9.0   9.0   3.0   6.0   25.0   \n",
              "7           Swordsman Swordsman  Castle    4  10.0  12.0   6.0   9.0   35.0   \n",
              "8             Crusader Crusader  Castle   4+  12.0  12.0   7.0  10.0   35.0   \n",
              "9                     Monk Monk  Castle    5  12.0   7.0  10.0  12.0   30.0   \n",
              "10                Zealot Zealot  Castle   5+  12.0  10.0  10.0  12.0   30.0   \n",
              "11            Cavalier Cavalier  Castle    6  15.0  15.0  15.0  25.0  100.0   \n",
              "12            Champion Champion  Castle   6+  16.0  16.0  20.0  25.0  100.0   \n",
              "13                  Angel Angel  Castle    7  20.0  20.0  50.0  50.0  200.0   \n",
              "14          Archangel Archangel  Castle   7+  30.0  30.0  50.0  50.0  250.0   \n",
              "\n",
              "     Spd   Grw   AI Val    Cost  Unnamed: 12  \\\n",
              "0    NaN   NaN      NaN     NaN          NaN   \n",
              "1    4.0  14.0       80    60.0          NaN   \n",
              "2    5.0  14.0      115    75.0          NaN   \n",
              "3    4.0   9.0      126   100.0          NaN   \n",
              "4    6.0   9.0      184   150.0          NaN   \n",
              "5    6.0   7.0      351   200.0          NaN   \n",
              "6    9.0   7.0      448   240.0          NaN   \n",
              "7    5.0   4.0      445   300.0          NaN   \n",
              "8    6.0   4.0      588   400.0          NaN   \n",
              "9    5.0   3.0  582 485   400.0          NaN   \n",
              "10   7.0   3.0      750   450.0          NaN   \n",
              "11   7.0   2.0     1946  1000.0          NaN   \n",
              "12   9.0   2.0     2100  1200.0          NaN   \n",
              "13  12.0   1.0     5019  3000.0          1.0   \n",
              "14  18.0   1.0     8776  5000.0          3.0   \n",
              "\n",
              "                                          Special  \n",
              "0                                             NaN  \n",
              "1                              Immune to jousting  \n",
              "2                              Immune to jousting  \n",
              "3                               Ranged (12 shots)  \n",
              "4                Ranged (24 shots), Double attack  \n",
              "5                        Flying, Two retaliations  \n",
              "6                  Flying, Unlimited retaliations  \n",
              "7                                             NaN  \n",
              "8                                   Double attack  \n",
              "9                               Ranged (12 shots)  \n",
              "10            Ranged (24 shots), No melee penalty  \n",
              "11                                       Jousting  \n",
              "12                                       Jousting  \n",
              "13                Flying, Hates Devils, Morale +1  \n",
              "14  Flying, Hates Devils, Resurrection, Morale +1  "
            ],
            "text/html": [
              "\n",
              "  <div id=\"df-aa2f7c53-af74-48ad-8569-152a39c459f7\" class=\"colab-df-container\">\n",
              "    <div>\n",
              "<style scoped>\n",
              "    .dataframe tbody tr th:only-of-type {\n",
              "        vertical-align: middle;\n",
              "    }\n",
              "\n",
              "    .dataframe tbody tr th {\n",
              "        vertical-align: top;\n",
              "    }\n",
              "\n",
              "    .dataframe thead th {\n",
              "        text-align: right;\n",
              "    }\n",
              "</style>\n",
              "<table border=\"1\" class=\"dataframe\">\n",
              "  <thead>\n",
              "    <tr style=\"text-align: right;\">\n",
              "      <th></th>\n",
              "      <th>Name</th>\n",
              "      <th>Town</th>\n",
              "      <th>Lvl</th>\n",
              "      <th>Att</th>\n",
              "      <th>Def</th>\n",
              "      <th>Dmg-</th>\n",
              "      <th>Dmg+</th>\n",
              "      <th>HP</th>\n",
              "      <th>Spd</th>\n",
              "      <th>Grw</th>\n",
              "      <th>AI Val</th>\n",
              "      <th>Cost</th>\n",
              "      <th>Unnamed: 12</th>\n",
              "      <th>Special</th>\n",
              "    </tr>\n",
              "  </thead>\n",
              "  <tbody>\n",
              "    <tr>\n",
              "      <th>0</th>\n",
              "      <td>NaN</td>\n",
              "      <td>Castle</td>\n",
              "      <td>NaN</td>\n",
              "      <td>NaN</td>\n",
              "      <td>NaN</td>\n",
              "      <td>NaN</td>\n",
              "      <td>NaN</td>\n",
              "      <td>NaN</td>\n",
              "      <td>NaN</td>\n",
              "      <td>NaN</td>\n",
              "      <td>NaN</td>\n",
              "      <td>NaN</td>\n",
              "      <td>NaN</td>\n",
              "      <td>NaN</td>\n",
              "    </tr>\n",
              "    <tr>\n",
              "      <th>1</th>\n",
              "      <td>Pikeman Pikeman</td>\n",
              "      <td>Castle</td>\n",
              "      <td>1</td>\n",
              "      <td>4.0</td>\n",
              "      <td>5.0</td>\n",
              "      <td>1.0</td>\n",
              "      <td>3.0</td>\n",
              "      <td>10.0</td>\n",
              "      <td>4.0</td>\n",
              "      <td>14.0</td>\n",
              "      <td>80</td>\n",
              "      <td>60.0</td>\n",
              "      <td>NaN</td>\n",
              "      <td>Immune to jousting</td>\n",
              "    </tr>\n",
              "    <tr>\n",
              "      <th>2</th>\n",
              "      <td>Halberdier Halberdier</td>\n",
              "      <td>Castle</td>\n",
              "      <td>1+</td>\n",
              "      <td>6.0</td>\n",
              "      <td>5.0</td>\n",
              "      <td>2.0</td>\n",
              "      <td>3.0</td>\n",
              "      <td>10.0</td>\n",
              "      <td>5.0</td>\n",
              "      <td>14.0</td>\n",
              "      <td>115</td>\n",
              "      <td>75.0</td>\n",
              "      <td>NaN</td>\n",
              "      <td>Immune to jousting</td>\n",
              "    </tr>\n",
              "    <tr>\n",
              "      <th>3</th>\n",
              "      <td>Archer Archer</td>\n",
              "      <td>Castle</td>\n",
              "      <td>2</td>\n",
              "      <td>6.0</td>\n",
              "      <td>3.0</td>\n",
              "      <td>2.0</td>\n",
              "      <td>3.0</td>\n",
              "      <td>10.0</td>\n",
              "      <td>4.0</td>\n",
              "      <td>9.0</td>\n",
              "      <td>126</td>\n",
              "      <td>100.0</td>\n",
              "      <td>NaN</td>\n",
              "      <td>Ranged (12 shots)</td>\n",
              "    </tr>\n",
              "    <tr>\n",
              "      <th>4</th>\n",
              "      <td>Marksman Marksman</td>\n",
              "      <td>Castle</td>\n",
              "      <td>2+</td>\n",
              "      <td>6.0</td>\n",
              "      <td>3.0</td>\n",
              "      <td>2.0</td>\n",
              "      <td>3.0</td>\n",
              "      <td>10.0</td>\n",
              "      <td>6.0</td>\n",
              "      <td>9.0</td>\n",
              "      <td>184</td>\n",
              "      <td>150.0</td>\n",
              "      <td>NaN</td>\n",
              "      <td>Ranged (24 shots), Double attack</td>\n",
              "    </tr>\n",
              "    <tr>\n",
              "      <th>5</th>\n",
              "      <td>Griffin Griffin</td>\n",
              "      <td>Castle</td>\n",
              "      <td>3</td>\n",
              "      <td>8.0</td>\n",
              "      <td>8.0</td>\n",
              "      <td>3.0</td>\n",
              "      <td>6.0</td>\n",
              "      <td>25.0</td>\n",
              "      <td>6.0</td>\n",
              "      <td>7.0</td>\n",
              "      <td>351</td>\n",
              "      <td>200.0</td>\n",
              "      <td>NaN</td>\n",
              "      <td>Flying, Two retaliations</td>\n",
              "    </tr>\n",
              "    <tr>\n",
              "      <th>6</th>\n",
              "      <td>Royal Griffin Royal Griffin</td>\n",
              "      <td>Castle</td>\n",
              "      <td>3+</td>\n",
              "      <td>9.0</td>\n",
              "      <td>9.0</td>\n",
              "      <td>3.0</td>\n",
              "      <td>6.0</td>\n",
              "      <td>25.0</td>\n",
              "      <td>9.0</td>\n",
              "      <td>7.0</td>\n",
              "      <td>448</td>\n",
              "      <td>240.0</td>\n",
              "      <td>NaN</td>\n",
              "      <td>Flying, Unlimited retaliations</td>\n",
              "    </tr>\n",
              "    <tr>\n",
              "      <th>7</th>\n",
              "      <td>Swordsman Swordsman</td>\n",
              "      <td>Castle</td>\n",
              "      <td>4</td>\n",
              "      <td>10.0</td>\n",
              "      <td>12.0</td>\n",
              "      <td>6.0</td>\n",
              "      <td>9.0</td>\n",
              "      <td>35.0</td>\n",
              "      <td>5.0</td>\n",
              "      <td>4.0</td>\n",
              "      <td>445</td>\n",
              "      <td>300.0</td>\n",
              "      <td>NaN</td>\n",
              "      <td>NaN</td>\n",
              "    </tr>\n",
              "    <tr>\n",
              "      <th>8</th>\n",
              "      <td>Crusader Crusader</td>\n",
              "      <td>Castle</td>\n",
              "      <td>4+</td>\n",
              "      <td>12.0</td>\n",
              "      <td>12.0</td>\n",
              "      <td>7.0</td>\n",
              "      <td>10.0</td>\n",
              "      <td>35.0</td>\n",
              "      <td>6.0</td>\n",
              "      <td>4.0</td>\n",
              "      <td>588</td>\n",
              "      <td>400.0</td>\n",
              "      <td>NaN</td>\n",
              "      <td>Double attack</td>\n",
              "    </tr>\n",
              "    <tr>\n",
              "      <th>9</th>\n",
              "      <td>Monk Monk</td>\n",
              "      <td>Castle</td>\n",
              "      <td>5</td>\n",
              "      <td>12.0</td>\n",
              "      <td>7.0</td>\n",
              "      <td>10.0</td>\n",
              "      <td>12.0</td>\n",
              "      <td>30.0</td>\n",
              "      <td>5.0</td>\n",
              "      <td>3.0</td>\n",
              "      <td>582 485</td>\n",
              "      <td>400.0</td>\n",
              "      <td>NaN</td>\n",
              "      <td>Ranged (12 shots)</td>\n",
              "    </tr>\n",
              "    <tr>\n",
              "      <th>10</th>\n",
              "      <td>Zealot Zealot</td>\n",
              "      <td>Castle</td>\n",
              "      <td>5+</td>\n",
              "      <td>12.0</td>\n",
              "      <td>10.0</td>\n",
              "      <td>10.0</td>\n",
              "      <td>12.0</td>\n",
              "      <td>30.0</td>\n",
              "      <td>7.0</td>\n",
              "      <td>3.0</td>\n",
              "      <td>750</td>\n",
              "      <td>450.0</td>\n",
              "      <td>NaN</td>\n",
              "      <td>Ranged (24 shots), No melee penalty</td>\n",
              "    </tr>\n",
              "    <tr>\n",
              "      <th>11</th>\n",
              "      <td>Cavalier Cavalier</td>\n",
              "      <td>Castle</td>\n",
              "      <td>6</td>\n",
              "      <td>15.0</td>\n",
              "      <td>15.0</td>\n",
              "      <td>15.0</td>\n",
              "      <td>25.0</td>\n",
              "      <td>100.0</td>\n",
              "      <td>7.0</td>\n",
              "      <td>2.0</td>\n",
              "      <td>1946</td>\n",
              "      <td>1000.0</td>\n",
              "      <td>NaN</td>\n",
              "      <td>Jousting</td>\n",
              "    </tr>\n",
              "    <tr>\n",
              "      <th>12</th>\n",
              "      <td>Champion Champion</td>\n",
              "      <td>Castle</td>\n",
              "      <td>6+</td>\n",
              "      <td>16.0</td>\n",
              "      <td>16.0</td>\n",
              "      <td>20.0</td>\n",
              "      <td>25.0</td>\n",
              "      <td>100.0</td>\n",
              "      <td>9.0</td>\n",
              "      <td>2.0</td>\n",
              "      <td>2100</td>\n",
              "      <td>1200.0</td>\n",
              "      <td>NaN</td>\n",
              "      <td>Jousting</td>\n",
              "    </tr>\n",
              "    <tr>\n",
              "      <th>13</th>\n",
              "      <td>Angel Angel</td>\n",
              "      <td>Castle</td>\n",
              "      <td>7</td>\n",
              "      <td>20.0</td>\n",
              "      <td>20.0</td>\n",
              "      <td>50.0</td>\n",
              "      <td>50.0</td>\n",
              "      <td>200.0</td>\n",
              "      <td>12.0</td>\n",
              "      <td>1.0</td>\n",
              "      <td>5019</td>\n",
              "      <td>3000.0</td>\n",
              "      <td>1.0</td>\n",
              "      <td>Flying, Hates Devils, Morale +1</td>\n",
              "    </tr>\n",
              "    <tr>\n",
              "      <th>14</th>\n",
              "      <td>Archangel Archangel</td>\n",
              "      <td>Castle</td>\n",
              "      <td>7+</td>\n",
              "      <td>30.0</td>\n",
              "      <td>30.0</td>\n",
              "      <td>50.0</td>\n",
              "      <td>50.0</td>\n",
              "      <td>250.0</td>\n",
              "      <td>18.0</td>\n",
              "      <td>1.0</td>\n",
              "      <td>8776</td>\n",
              "      <td>5000.0</td>\n",
              "      <td>3.0</td>\n",
              "      <td>Flying, Hates Devils, Resurrection, Morale +1</td>\n",
              "    </tr>\n",
              "  </tbody>\n",
              "</table>\n",
              "</div>\n",
              "    <div class=\"colab-df-buttons\">\n",
              "\n",
              "  <div class=\"colab-df-container\">\n",
              "    <button class=\"colab-df-convert\" onclick=\"convertToInteractive('df-aa2f7c53-af74-48ad-8569-152a39c459f7')\"\n",
              "            title=\"Convert this dataframe to an interactive table.\"\n",
              "            style=\"display:none;\">\n",
              "\n",
              "  <svg xmlns=\"http://www.w3.org/2000/svg\" height=\"24px\" viewBox=\"0 -960 960 960\">\n",
              "    <path d=\"M120-120v-720h720v720H120Zm60-500h600v-160H180v160Zm220 220h160v-160H400v160Zm0 220h160v-160H400v160ZM180-400h160v-160H180v160Zm440 0h160v-160H620v160ZM180-180h160v-160H180v160Zm440 0h160v-160H620v160Z\"/>\n",
              "  </svg>\n",
              "    </button>\n",
              "\n",
              "  <style>\n",
              "    .colab-df-container {\n",
              "      display:flex;\n",
              "      gap: 12px;\n",
              "    }\n",
              "\n",
              "    .colab-df-convert {\n",
              "      background-color: #E8F0FE;\n",
              "      border: none;\n",
              "      border-radius: 50%;\n",
              "      cursor: pointer;\n",
              "      display: none;\n",
              "      fill: #1967D2;\n",
              "      height: 32px;\n",
              "      padding: 0 0 0 0;\n",
              "      width: 32px;\n",
              "    }\n",
              "\n",
              "    .colab-df-convert:hover {\n",
              "      background-color: #E2EBFA;\n",
              "      box-shadow: 0px 1px 2px rgba(60, 64, 67, 0.3), 0px 1px 3px 1px rgba(60, 64, 67, 0.15);\n",
              "      fill: #174EA6;\n",
              "    }\n",
              "\n",
              "    .colab-df-buttons div {\n",
              "      margin-bottom: 4px;\n",
              "    }\n",
              "\n",
              "    [theme=dark] .colab-df-convert {\n",
              "      background-color: #3B4455;\n",
              "      fill: #D2E3FC;\n",
              "    }\n",
              "\n",
              "    [theme=dark] .colab-df-convert:hover {\n",
              "      background-color: #434B5C;\n",
              "      box-shadow: 0px 1px 3px 1px rgba(0, 0, 0, 0.15);\n",
              "      filter: drop-shadow(0px 1px 2px rgba(0, 0, 0, 0.3));\n",
              "      fill: #FFFFFF;\n",
              "    }\n",
              "  </style>\n",
              "\n",
              "    <script>\n",
              "      const buttonEl =\n",
              "        document.querySelector('#df-aa2f7c53-af74-48ad-8569-152a39c459f7 button.colab-df-convert');\n",
              "      buttonEl.style.display =\n",
              "        google.colab.kernel.accessAllowed ? 'block' : 'none';\n",
              "\n",
              "      async function convertToInteractive(key) {\n",
              "        const element = document.querySelector('#df-aa2f7c53-af74-48ad-8569-152a39c459f7');\n",
              "        const dataTable =\n",
              "          await google.colab.kernel.invokeFunction('convertToInteractive',\n",
              "                                                    [key], {});\n",
              "        if (!dataTable) return;\n",
              "\n",
              "        const docLinkHtml = 'Like what you see? Visit the ' +\n",
              "          '<a target=\"_blank\" href=https://colab.research.google.com/notebooks/data_table.ipynb>data table notebook</a>'\n",
              "          + ' to learn more about interactive tables.';\n",
              "        element.innerHTML = '';\n",
              "        dataTable['output_type'] = 'display_data';\n",
              "        await google.colab.output.renderOutput(dataTable, element);\n",
              "        const docLink = document.createElement('div');\n",
              "        docLink.innerHTML = docLinkHtml;\n",
              "        element.appendChild(docLink);\n",
              "      }\n",
              "    </script>\n",
              "  </div>\n",
              "\n",
              "\n",
              "<div id=\"df-d4632713-cd18-494d-b40c-2c34103eec76\">\n",
              "  <button class=\"colab-df-quickchart\" onclick=\"quickchart('df-d4632713-cd18-494d-b40c-2c34103eec76')\"\n",
              "            title=\"Suggest charts\"\n",
              "            style=\"display:none;\">\n",
              "\n",
              "<svg xmlns=\"http://www.w3.org/2000/svg\" height=\"24px\"viewBox=\"0 0 24 24\"\n",
              "     width=\"24px\">\n",
              "    <g>\n",
              "        <path d=\"M19 3H5c-1.1 0-2 .9-2 2v14c0 1.1.9 2 2 2h14c1.1 0 2-.9 2-2V5c0-1.1-.9-2-2-2zM9 17H7v-7h2v7zm4 0h-2V7h2v10zm4 0h-2v-4h2v4z\"/>\n",
              "    </g>\n",
              "</svg>\n",
              "  </button>\n",
              "\n",
              "<style>\n",
              "  .colab-df-quickchart {\n",
              "      --bg-color: #E8F0FE;\n",
              "      --fill-color: #1967D2;\n",
              "      --hover-bg-color: #E2EBFA;\n",
              "      --hover-fill-color: #174EA6;\n",
              "      --disabled-fill-color: #AAA;\n",
              "      --disabled-bg-color: #DDD;\n",
              "  }\n",
              "\n",
              "  [theme=dark] .colab-df-quickchart {\n",
              "      --bg-color: #3B4455;\n",
              "      --fill-color: #D2E3FC;\n",
              "      --hover-bg-color: #434B5C;\n",
              "      --hover-fill-color: #FFFFFF;\n",
              "      --disabled-bg-color: #3B4455;\n",
              "      --disabled-fill-color: #666;\n",
              "  }\n",
              "\n",
              "  .colab-df-quickchart {\n",
              "    background-color: var(--bg-color);\n",
              "    border: none;\n",
              "    border-radius: 50%;\n",
              "    cursor: pointer;\n",
              "    display: none;\n",
              "    fill: var(--fill-color);\n",
              "    height: 32px;\n",
              "    padding: 0;\n",
              "    width: 32px;\n",
              "  }\n",
              "\n",
              "  .colab-df-quickchart:hover {\n",
              "    background-color: var(--hover-bg-color);\n",
              "    box-shadow: 0 1px 2px rgba(60, 64, 67, 0.3), 0 1px 3px 1px rgba(60, 64, 67, 0.15);\n",
              "    fill: var(--button-hover-fill-color);\n",
              "  }\n",
              "\n",
              "  .colab-df-quickchart-complete:disabled,\n",
              "  .colab-df-quickchart-complete:disabled:hover {\n",
              "    background-color: var(--disabled-bg-color);\n",
              "    fill: var(--disabled-fill-color);\n",
              "    box-shadow: none;\n",
              "  }\n",
              "\n",
              "  .colab-df-spinner {\n",
              "    border: 2px solid var(--fill-color);\n",
              "    border-color: transparent;\n",
              "    border-bottom-color: var(--fill-color);\n",
              "    animation:\n",
              "      spin 1s steps(1) infinite;\n",
              "  }\n",
              "\n",
              "  @keyframes spin {\n",
              "    0% {\n",
              "      border-color: transparent;\n",
              "      border-bottom-color: var(--fill-color);\n",
              "      border-left-color: var(--fill-color);\n",
              "    }\n",
              "    20% {\n",
              "      border-color: transparent;\n",
              "      border-left-color: var(--fill-color);\n",
              "      border-top-color: var(--fill-color);\n",
              "    }\n",
              "    30% {\n",
              "      border-color: transparent;\n",
              "      border-left-color: var(--fill-color);\n",
              "      border-top-color: var(--fill-color);\n",
              "      border-right-color: var(--fill-color);\n",
              "    }\n",
              "    40% {\n",
              "      border-color: transparent;\n",
              "      border-right-color: var(--fill-color);\n",
              "      border-top-color: var(--fill-color);\n",
              "    }\n",
              "    60% {\n",
              "      border-color: transparent;\n",
              "      border-right-color: var(--fill-color);\n",
              "    }\n",
              "    80% {\n",
              "      border-color: transparent;\n",
              "      border-right-color: var(--fill-color);\n",
              "      border-bottom-color: var(--fill-color);\n",
              "    }\n",
              "    90% {\n",
              "      border-color: transparent;\n",
              "      border-bottom-color: var(--fill-color);\n",
              "    }\n",
              "  }\n",
              "</style>\n",
              "\n",
              "  <script>\n",
              "    async function quickchart(key) {\n",
              "      const quickchartButtonEl =\n",
              "        document.querySelector('#' + key + ' button');\n",
              "      quickchartButtonEl.disabled = true;  // To prevent multiple clicks.\n",
              "      quickchartButtonEl.classList.add('colab-df-spinner');\n",
              "      try {\n",
              "        const charts = await google.colab.kernel.invokeFunction(\n",
              "            'suggestCharts', [key], {});\n",
              "      } catch (error) {\n",
              "        console.error('Error during call to suggestCharts:', error);\n",
              "      }\n",
              "      quickchartButtonEl.classList.remove('colab-df-spinner');\n",
              "      quickchartButtonEl.classList.add('colab-df-quickchart-complete');\n",
              "    }\n",
              "    (() => {\n",
              "      let quickchartButtonEl =\n",
              "        document.querySelector('#df-d4632713-cd18-494d-b40c-2c34103eec76 button');\n",
              "      quickchartButtonEl.style.display =\n",
              "        google.colab.kernel.accessAllowed ? 'block' : 'none';\n",
              "    })();\n",
              "  </script>\n",
              "</div>\n",
              "\n",
              "  <div id=\"id_0816b923-5465-4a6f-8693-d6a18254d97f\">\n",
              "    <style>\n",
              "      .colab-df-generate {\n",
              "        background-color: #E8F0FE;\n",
              "        border: none;\n",
              "        border-radius: 50%;\n",
              "        cursor: pointer;\n",
              "        display: none;\n",
              "        fill: #1967D2;\n",
              "        height: 32px;\n",
              "        padding: 0 0 0 0;\n",
              "        width: 32px;\n",
              "      }\n",
              "\n",
              "      .colab-df-generate:hover {\n",
              "        background-color: #E2EBFA;\n",
              "        box-shadow: 0px 1px 2px rgba(60, 64, 67, 0.3), 0px 1px 3px 1px rgba(60, 64, 67, 0.15);\n",
              "        fill: #174EA6;\n",
              "      }\n",
              "\n",
              "      [theme=dark] .colab-df-generate {\n",
              "        background-color: #3B4455;\n",
              "        fill: #D2E3FC;\n",
              "      }\n",
              "\n",
              "      [theme=dark] .colab-df-generate:hover {\n",
              "        background-color: #434B5C;\n",
              "        box-shadow: 0px 1px 3px 1px rgba(0, 0, 0, 0.15);\n",
              "        filter: drop-shadow(0px 1px 2px rgba(0, 0, 0, 0.3));\n",
              "        fill: #FFFFFF;\n",
              "      }\n",
              "    </style>\n",
              "    <button class=\"colab-df-generate\" onclick=\"generateWithVariable('df_castle')\"\n",
              "            title=\"Generate code using this dataframe.\"\n",
              "            style=\"display:none;\">\n",
              "\n",
              "  <svg xmlns=\"http://www.w3.org/2000/svg\" height=\"24px\"viewBox=\"0 0 24 24\"\n",
              "       width=\"24px\">\n",
              "    <path d=\"M7,19H8.4L18.45,9,17,7.55,7,17.6ZM5,21V16.75L18.45,3.32a2,2,0,0,1,2.83,0l1.4,1.43a1.91,1.91,0,0,1,.58,1.4,1.91,1.91,0,0,1-.58,1.4L9.25,21ZM18.45,9,17,7.55Zm-12,3A5.31,5.31,0,0,0,4.9,8.1,5.31,5.31,0,0,0,1,6.5,5.31,5.31,0,0,0,4.9,4.9,5.31,5.31,0,0,0,6.5,1,5.31,5.31,0,0,0,8.1,4.9,5.31,5.31,0,0,0,12,6.5,5.46,5.46,0,0,0,6.5,12Z\"/>\n",
              "  </svg>\n",
              "    </button>\n",
              "    <script>\n",
              "      (() => {\n",
              "      const buttonEl =\n",
              "        document.querySelector('#id_0816b923-5465-4a6f-8693-d6a18254d97f button.colab-df-generate');\n",
              "      buttonEl.style.display =\n",
              "        google.colab.kernel.accessAllowed ? 'block' : 'none';\n",
              "\n",
              "      buttonEl.onclick = () => {\n",
              "        google.colab.notebook.generateWithVariable('df_castle');\n",
              "      }\n",
              "      })();\n",
              "    </script>\n",
              "  </div>\n",
              "\n",
              "    </div>\n",
              "  </div>\n"
            ],
            "application/vnd.google.colaboratory.intrinsic+json": {
              "type": "dataframe",
              "variable_name": "df_castle",
              "summary": "{\n  \"name\": \"df_castle\",\n  \"rows\": 15,\n  \"fields\": [\n    {\n      \"column\": \"Name\",\n      \"properties\": {\n        \"dtype\": \"string\",\n        \"num_unique_values\": 14,\n        \"samples\": [\n          \"Zealot Zealot\",\n          \"Champion Champion\",\n          \"Pikeman Pikeman\"\n        ],\n        \"semantic_type\": \"\",\n        \"description\": \"\"\n      }\n    },\n    {\n      \"column\": \"Town\",\n      \"properties\": {\n        \"dtype\": \"category\",\n        \"num_unique_values\": 1,\n        \"samples\": [\n          \"Castle\"\n        ],\n        \"semantic_type\": \"\",\n        \"description\": \"\"\n      }\n    },\n    {\n      \"column\": \"Lvl\",\n      \"properties\": {\n        \"dtype\": \"string\",\n        \"num_unique_values\": 14,\n        \"samples\": [\n          \"5+\"\n        ],\n        \"semantic_type\": \"\",\n        \"description\": \"\"\n      }\n    },\n    {\n      \"column\": \"Att\",\n      \"properties\": {\n        \"dtype\": \"number\",\n        \"std\": 6.870865390093973,\n        \"min\": 4.0,\n        \"max\": 30.0,\n        \"num_unique_values\": 10,\n        \"samples\": [\n          20.0\n        ],\n        \"semantic_type\": \"\",\n        \"description\": \"\"\n      }\n    },\n    {\n      \"column\": \"Def\",\n      \"properties\": {\n        \"dtype\": \"number\",\n        \"std\": 7.415828038358596,\n        \"min\": 3.0,\n        \"max\": 30.0,\n        \"num_unique_values\": 11,\n        \"samples\": [\n          7.0\n        ],\n        \"semantic_type\": \"\",\n        \"description\": \"\"\n      }\n    },\n    {\n      \"column\": \"Dmg-\",\n      \"properties\": {\n        \"dtype\": \"number\",\n        \"std\": 16.64315190985486,\n        \"min\": 1.0,\n        \"max\": 50.0,\n        \"num_unique_values\": 9,\n        \"samples\": [\n          20.0\n        ],\n        \"semantic_type\": \"\",\n        \"description\": \"\"\n      }\n    },\n    {\n      \"column\": \"Dmg+\",\n      \"properties\": {\n        \"dtype\": \"number\",\n        \"std\": 16.3224715323102,\n        \"min\": 3.0,\n        \"max\": 50.0,\n        \"num_unique_values\": 7,\n        \"samples\": [\n          3.0\n        ],\n        \"semantic_type\": \"\",\n        \"description\": \"\"\n      }\n    },\n    {\n      \"column\": \"HP\",\n      \"properties\": {\n        \"dtype\": \"number\",\n        \"std\": 75.61833023898285,\n        \"min\": 10.0,\n        \"max\": 250.0,\n        \"num_unique_values\": 7,\n        \"samples\": [\n          10.0\n        ],\n        \"semantic_type\": \"\",\n        \"description\": \"\"\n      }\n    },\n    {\n      \"column\": \"Spd\",\n      \"properties\": {\n        \"dtype\": \"number\",\n        \"std\": 3.7745533175798096,\n        \"min\": 4.0,\n        \"max\": 18.0,\n        \"num_unique_values\": 7,\n        \"samples\": [\n          4.0\n        ],\n        \"semantic_type\": \"\",\n        \"description\": \"\"\n      }\n    },\n    {\n      \"column\": \"Grw\",\n      \"properties\": {\n        \"dtype\": \"number\",\n        \"std\": 4.427685129319338,\n        \"min\": 1.0,\n        \"max\": 14.0,\n        \"num_unique_values\": 7,\n        \"samples\": [\n          14.0\n        ],\n        \"semantic_type\": \"\",\n        \"description\": \"\"\n      }\n    },\n    {\n      \"column\": \"AI Val\",\n      \"properties\": {\n        \"dtype\": \"string\",\n        \"num_unique_values\": 14,\n        \"samples\": [\n          \"750\"\n        ],\n        \"semantic_type\": \"\",\n        \"description\": \"\"\n      }\n    },\n    {\n      \"column\": \"Cost\",\n      \"properties\": {\n        \"dtype\": \"number\",\n        \"std\": 1411.4035664800226,\n        \"min\": 60.0,\n        \"max\": 5000.0,\n        \"num_unique_values\": 13,\n        \"samples\": [\n          3000.0\n        ],\n        \"semantic_type\": \"\",\n        \"description\": \"\"\n      }\n    },\n    {\n      \"column\": \"Unnamed: 12\",\n      \"properties\": {\n        \"dtype\": \"number\",\n        \"std\": 1.4142135623730951,\n        \"min\": 1.0,\n        \"max\": 3.0,\n        \"num_unique_values\": 2,\n        \"samples\": [\n          3.0\n        ],\n        \"semantic_type\": \"\",\n        \"description\": \"\"\n      }\n    },\n    {\n      \"column\": \"Special\",\n      \"properties\": {\n        \"dtype\": \"string\",\n        \"num_unique_values\": 10,\n        \"samples\": [\n          \"Flying, Hates Devils, Morale +1\"\n        ],\n        \"semantic_type\": \"\",\n        \"description\": \"\"\n      }\n    }\n  ]\n}"
            }
          },
          "metadata": {},
          "execution_count": 97
        }
      ]
    },
    {
      "cell_type": "markdown",
      "source": [
        "2. Rampart"
      ],
      "metadata": {
        "id": "39RYPuIKVS2_"
      }
    },
    {
      "cell_type": "code",
      "source": [
        "df_rampart = pd.DataFrame(dfs[1])\n",
        "# df_rampart.columns = df_rampart.columns.droplevel()\n",
        "df_rampart['Town'] = 'Rampart'"
      ],
      "metadata": {
        "id": "6BpWbbBqU_l6"
      },
      "execution_count": 98,
      "outputs": []
    },
    {
      "cell_type": "markdown",
      "source": [
        "3. Tower"
      ],
      "metadata": {
        "id": "J3ZOqdCyVi6h"
      }
    },
    {
      "cell_type": "code",
      "source": [
        "df_tower = pd.DataFrame(dfs[2])\n",
        "# df_tower.columns = df_tower.columns.droplevel()\n",
        "df_tower['Town'] = 'Tower'"
      ],
      "metadata": {
        "id": "KuHC80vIU_op"
      },
      "execution_count": 99,
      "outputs": []
    },
    {
      "cell_type": "markdown",
      "source": [
        "4. Inferno"
      ],
      "metadata": {
        "id": "GBJhQEPeVolJ"
      }
    },
    {
      "cell_type": "code",
      "source": [
        "df_inferno = pd.DataFrame(dfs[3])\n",
        "# df_inferno.columns = df_inferno.columns.droplevel()\n",
        "df_inferno['Town'] = 'Inferno'"
      ],
      "metadata": {
        "id": "4G5ukXSLU_ra"
      },
      "execution_count": 100,
      "outputs": []
    },
    {
      "cell_type": "markdown",
      "source": [
        "5. Necropolis"
      ],
      "metadata": {
        "id": "HGdngOfUgu7u"
      }
    },
    {
      "cell_type": "code",
      "source": [
        "df_necropolis = pd.DataFrame(dfs[4])\n",
        "# df_necropolis.columns = df_necropolis.columns.droplevel()\n",
        "df_necropolis['Town'] = 'Necropolis'"
      ],
      "metadata": {
        "id": "DAgGdC4bU_uj"
      },
      "execution_count": 101,
      "outputs": []
    },
    {
      "cell_type": "markdown",
      "source": [
        "6. Dungeon"
      ],
      "metadata": {
        "id": "rcpEtkXKhdaH"
      }
    },
    {
      "cell_type": "code",
      "source": [
        "df_dungeon = pd.DataFrame(dfs[5])\n",
        "# df_dungeon.columns = df_dungeon.columns.droplevel()\n",
        "df_dungeon['Town'] = 'Dungeon'\n",
        "# df_dungeon.drop('', axis = 1, inplace = True)"
      ],
      "metadata": {
        "id": "ianjO71lhcrp"
      },
      "execution_count": 102,
      "outputs": []
    },
    {
      "cell_type": "markdown",
      "source": [
        "7. Stronghold"
      ],
      "metadata": {
        "id": "QNjvBKd7h7mw"
      }
    },
    {
      "cell_type": "code",
      "source": [
        "df_stronghold = pd.DataFrame(dfs[6])\n",
        "# df_dungeon.columns = df_dungeon.columns.droplevel()\n",
        "df_stronghold['Town'] = 'Stronghold'\n",
        "# df_dungeon.drop('', axis = 1, inplace = True)"
      ],
      "metadata": {
        "id": "0mrUPDAhpdWI"
      },
      "execution_count": 103,
      "outputs": []
    },
    {
      "cell_type": "markdown",
      "source": [
        "8. Fortress"
      ],
      "metadata": {
        "id": "aRm6UrIth96J"
      }
    },
    {
      "cell_type": "code",
      "source": [
        "df_fortress = pd.DataFrame(dfs[7])\n",
        "# df_fortress.columns = df_fortress.columns.droplevel()\n",
        "df_fortress['Town'] = 'Fortress'"
      ],
      "metadata": {
        "id": "_lll6riahcvW"
      },
      "execution_count": 104,
      "outputs": []
    },
    {
      "cell_type": "markdown",
      "source": [
        "9. Conflux"
      ],
      "metadata": {
        "id": "_VdXA6aIiIra"
      }
    },
    {
      "cell_type": "code",
      "source": [
        "df_conflux = pd.DataFrame(dfs[8])\n",
        "# df_conflux.columns = df_conflux.columns.droplevel()\n",
        "df_conflux['Town'] = 'Conflux'"
      ],
      "metadata": {
        "id": "lElyTeVthczX"
      },
      "execution_count": 105,
      "outputs": []
    },
    {
      "cell_type": "markdown",
      "source": [
        "10. Cove"
      ],
      "metadata": {
        "id": "Im27U7VpfQaE"
      }
    },
    {
      "cell_type": "code",
      "source": [
        "df_cove= pd.DataFrame(dfs[9])\n",
        "# df_conflux.columns = df_conflux.columns.droplevel()\n",
        "df_cove['Town'] = 'Cove'"
      ],
      "metadata": {
        "id": "AAICUAZ0fQiM"
      },
      "execution_count": 106,
      "outputs": []
    },
    {
      "cell_type": "markdown",
      "source": [
        "11 . Factory"
      ],
      "metadata": {
        "id": "GWo8FK1Ap3pc"
      }
    },
    {
      "cell_type": "code",
      "source": [
        "df_factory= pd.DataFrame(dfs[10])\n",
        "# df_conflux.columns = df_conflux.columns.droplevel()\n",
        "df_factory['Town'] = 'Factory'"
      ],
      "metadata": {
        "id": "dI604dOqmy6D"
      },
      "execution_count": 107,
      "outputs": []
    },
    {
      "cell_type": "markdown",
      "source": [
        "# Generating cumsum column"
      ],
      "metadata": {
        "id": "UECXxlU6hwnB"
      }
    },
    {
      "cell_type": "markdown",
      "source": [
        "Generating the column with cumulative Values for Upgraded Creatures."
      ],
      "metadata": {
        "id": "mULv1xJuYiml"
      }
    },
    {
      "cell_type": "code",
      "source": [
        "def cumsum(df):\n",
        "  df['val_temp'] = df.index % 2 * df['Val']\n",
        "  df['cum_val'] = df['val_temp'].cumsum()\n",
        "  df = df.drop('val_temp', axis =1, inplace=True)\n",
        "  return df"
      ],
      "metadata": {
        "id": "FwNxol2YPjdk"
      },
      "execution_count": 108,
      "outputs": []
    },
    {
      "cell_type": "code",
      "source": [
        "for df in [df_castle, df_rampart, df_tower, df_inferno, df_necropolis, df_dungeon, df_stronghold, df_fortress, df_conflux, df_cove]:\n",
        "  cumsum(df)"
      ],
      "metadata": {
        "id": "JeSkKKeaag4d",
        "colab": {
          "base_uri": "https://localhost:8080/",
          "height": 547
        },
        "outputId": "c151c774-2800-4493-c199-fc81b51d9eba"
      },
      "execution_count": 109,
      "outputs": [
        {
          "output_type": "error",
          "ename": "KeyError",
          "evalue": "'Val'",
          "traceback": [
            "\u001b[0;31m---------------------------------------------------------------------------\u001b[0m",
            "\u001b[0;31mKeyError\u001b[0m                                  Traceback (most recent call last)",
            "\u001b[0;32m/usr/local/lib/python3.10/dist-packages/pandas/core/indexes/base.py\u001b[0m in \u001b[0;36mget_loc\u001b[0;34m(self, key)\u001b[0m\n\u001b[1;32m   3804\u001b[0m         \u001b[0;32mtry\u001b[0m\u001b[0;34m:\u001b[0m\u001b[0;34m\u001b[0m\u001b[0;34m\u001b[0m\u001b[0m\n\u001b[0;32m-> 3805\u001b[0;31m             \u001b[0;32mreturn\u001b[0m \u001b[0mself\u001b[0m\u001b[0;34m.\u001b[0m\u001b[0m_engine\u001b[0m\u001b[0;34m.\u001b[0m\u001b[0mget_loc\u001b[0m\u001b[0;34m(\u001b[0m\u001b[0mcasted_key\u001b[0m\u001b[0;34m)\u001b[0m\u001b[0;34m\u001b[0m\u001b[0;34m\u001b[0m\u001b[0m\n\u001b[0m\u001b[1;32m   3806\u001b[0m         \u001b[0;32mexcept\u001b[0m \u001b[0mKeyError\u001b[0m \u001b[0;32mas\u001b[0m \u001b[0merr\u001b[0m\u001b[0;34m:\u001b[0m\u001b[0;34m\u001b[0m\u001b[0;34m\u001b[0m\u001b[0m\n",
            "\u001b[0;32mindex.pyx\u001b[0m in \u001b[0;36mpandas._libs.index.IndexEngine.get_loc\u001b[0;34m()\u001b[0m\n",
            "\u001b[0;32mindex.pyx\u001b[0m in \u001b[0;36mpandas._libs.index.IndexEngine.get_loc\u001b[0;34m()\u001b[0m\n",
            "\u001b[0;32mpandas/_libs/hashtable_class_helper.pxi\u001b[0m in \u001b[0;36mpandas._libs.hashtable.PyObjectHashTable.get_item\u001b[0;34m()\u001b[0m\n",
            "\u001b[0;32mpandas/_libs/hashtable_class_helper.pxi\u001b[0m in \u001b[0;36mpandas._libs.hashtable.PyObjectHashTable.get_item\u001b[0;34m()\u001b[0m\n",
            "\u001b[0;31mKeyError\u001b[0m: 'Val'",
            "\nThe above exception was the direct cause of the following exception:\n",
            "\u001b[0;31mKeyError\u001b[0m                                  Traceback (most recent call last)",
            "\u001b[0;32m<ipython-input-109-f62dd9ef636a>\u001b[0m in \u001b[0;36m<cell line: 1>\u001b[0;34m()\u001b[0m\n\u001b[1;32m      1\u001b[0m \u001b[0;32mfor\u001b[0m \u001b[0mdf\u001b[0m \u001b[0;32min\u001b[0m \u001b[0;34m[\u001b[0m\u001b[0mdf_castle\u001b[0m\u001b[0;34m,\u001b[0m \u001b[0mdf_rampart\u001b[0m\u001b[0;34m,\u001b[0m \u001b[0mdf_tower\u001b[0m\u001b[0;34m,\u001b[0m \u001b[0mdf_inferno\u001b[0m\u001b[0;34m,\u001b[0m \u001b[0mdf_necropolis\u001b[0m\u001b[0;34m,\u001b[0m \u001b[0mdf_dungeon\u001b[0m\u001b[0;34m,\u001b[0m \u001b[0mdf_stronghold\u001b[0m\u001b[0;34m,\u001b[0m \u001b[0mdf_fortress\u001b[0m\u001b[0;34m,\u001b[0m \u001b[0mdf_conflux\u001b[0m\u001b[0;34m,\u001b[0m \u001b[0mdf_cove\u001b[0m\u001b[0;34m]\u001b[0m\u001b[0;34m:\u001b[0m\u001b[0;34m\u001b[0m\u001b[0;34m\u001b[0m\u001b[0m\n\u001b[0;32m----> 2\u001b[0;31m   \u001b[0mcumsum\u001b[0m\u001b[0;34m(\u001b[0m\u001b[0mdf\u001b[0m\u001b[0;34m)\u001b[0m\u001b[0;34m\u001b[0m\u001b[0;34m\u001b[0m\u001b[0m\n\u001b[0m",
            "\u001b[0;32m<ipython-input-108-cec1262aa16d>\u001b[0m in \u001b[0;36mcumsum\u001b[0;34m(df)\u001b[0m\n\u001b[1;32m      1\u001b[0m \u001b[0;32mdef\u001b[0m \u001b[0mcumsum\u001b[0m\u001b[0;34m(\u001b[0m\u001b[0mdf\u001b[0m\u001b[0;34m)\u001b[0m\u001b[0;34m:\u001b[0m\u001b[0;34m\u001b[0m\u001b[0;34m\u001b[0m\u001b[0m\n\u001b[0;32m----> 2\u001b[0;31m   \u001b[0mdf\u001b[0m\u001b[0;34m[\u001b[0m\u001b[0;34m'val_temp'\u001b[0m\u001b[0;34m]\u001b[0m \u001b[0;34m=\u001b[0m \u001b[0mdf\u001b[0m\u001b[0;34m.\u001b[0m\u001b[0mindex\u001b[0m \u001b[0;34m%\u001b[0m \u001b[0;36m2\u001b[0m \u001b[0;34m*\u001b[0m \u001b[0mdf\u001b[0m\u001b[0;34m[\u001b[0m\u001b[0;34m'Val'\u001b[0m\u001b[0;34m]\u001b[0m\u001b[0;34m\u001b[0m\u001b[0;34m\u001b[0m\u001b[0m\n\u001b[0m\u001b[1;32m      3\u001b[0m   \u001b[0mdf\u001b[0m\u001b[0;34m[\u001b[0m\u001b[0;34m'cum_val'\u001b[0m\u001b[0;34m]\u001b[0m \u001b[0;34m=\u001b[0m \u001b[0mdf\u001b[0m\u001b[0;34m[\u001b[0m\u001b[0;34m'val_temp'\u001b[0m\u001b[0;34m]\u001b[0m\u001b[0;34m.\u001b[0m\u001b[0mcumsum\u001b[0m\u001b[0;34m(\u001b[0m\u001b[0;34m)\u001b[0m\u001b[0;34m\u001b[0m\u001b[0;34m\u001b[0m\u001b[0m\n\u001b[1;32m      4\u001b[0m   \u001b[0mdf\u001b[0m \u001b[0;34m=\u001b[0m \u001b[0mdf\u001b[0m\u001b[0;34m.\u001b[0m\u001b[0mdrop\u001b[0m\u001b[0;34m(\u001b[0m\u001b[0;34m'val_temp'\u001b[0m\u001b[0;34m,\u001b[0m \u001b[0maxis\u001b[0m \u001b[0;34m=\u001b[0m\u001b[0;36m1\u001b[0m\u001b[0;34m,\u001b[0m \u001b[0minplace\u001b[0m\u001b[0;34m=\u001b[0m\u001b[0;32mTrue\u001b[0m\u001b[0;34m)\u001b[0m\u001b[0;34m\u001b[0m\u001b[0;34m\u001b[0m\u001b[0m\n\u001b[1;32m      5\u001b[0m   \u001b[0;32mreturn\u001b[0m \u001b[0mdf\u001b[0m\u001b[0;34m\u001b[0m\u001b[0;34m\u001b[0m\u001b[0m\n",
            "\u001b[0;32m/usr/local/lib/python3.10/dist-packages/pandas/core/frame.py\u001b[0m in \u001b[0;36m__getitem__\u001b[0;34m(self, key)\u001b[0m\n\u001b[1;32m   4100\u001b[0m             \u001b[0;32mif\u001b[0m \u001b[0mself\u001b[0m\u001b[0;34m.\u001b[0m\u001b[0mcolumns\u001b[0m\u001b[0;34m.\u001b[0m\u001b[0mnlevels\u001b[0m \u001b[0;34m>\u001b[0m \u001b[0;36m1\u001b[0m\u001b[0;34m:\u001b[0m\u001b[0;34m\u001b[0m\u001b[0;34m\u001b[0m\u001b[0m\n\u001b[1;32m   4101\u001b[0m                 \u001b[0;32mreturn\u001b[0m \u001b[0mself\u001b[0m\u001b[0;34m.\u001b[0m\u001b[0m_getitem_multilevel\u001b[0m\u001b[0;34m(\u001b[0m\u001b[0mkey\u001b[0m\u001b[0;34m)\u001b[0m\u001b[0;34m\u001b[0m\u001b[0;34m\u001b[0m\u001b[0m\n\u001b[0;32m-> 4102\u001b[0;31m             \u001b[0mindexer\u001b[0m \u001b[0;34m=\u001b[0m \u001b[0mself\u001b[0m\u001b[0;34m.\u001b[0m\u001b[0mcolumns\u001b[0m\u001b[0;34m.\u001b[0m\u001b[0mget_loc\u001b[0m\u001b[0;34m(\u001b[0m\u001b[0mkey\u001b[0m\u001b[0;34m)\u001b[0m\u001b[0;34m\u001b[0m\u001b[0;34m\u001b[0m\u001b[0m\n\u001b[0m\u001b[1;32m   4103\u001b[0m             \u001b[0;32mif\u001b[0m \u001b[0mis_integer\u001b[0m\u001b[0;34m(\u001b[0m\u001b[0mindexer\u001b[0m\u001b[0;34m)\u001b[0m\u001b[0;34m:\u001b[0m\u001b[0;34m\u001b[0m\u001b[0;34m\u001b[0m\u001b[0m\n\u001b[1;32m   4104\u001b[0m                 \u001b[0mindexer\u001b[0m \u001b[0;34m=\u001b[0m \u001b[0;34m[\u001b[0m\u001b[0mindexer\u001b[0m\u001b[0;34m]\u001b[0m\u001b[0;34m\u001b[0m\u001b[0;34m\u001b[0m\u001b[0m\n",
            "\u001b[0;32m/usr/local/lib/python3.10/dist-packages/pandas/core/indexes/base.py\u001b[0m in \u001b[0;36mget_loc\u001b[0;34m(self, key)\u001b[0m\n\u001b[1;32m   3810\u001b[0m             ):\n\u001b[1;32m   3811\u001b[0m                 \u001b[0;32mraise\u001b[0m \u001b[0mInvalidIndexError\u001b[0m\u001b[0;34m(\u001b[0m\u001b[0mkey\u001b[0m\u001b[0;34m)\u001b[0m\u001b[0;34m\u001b[0m\u001b[0;34m\u001b[0m\u001b[0m\n\u001b[0;32m-> 3812\u001b[0;31m             \u001b[0;32mraise\u001b[0m \u001b[0mKeyError\u001b[0m\u001b[0;34m(\u001b[0m\u001b[0mkey\u001b[0m\u001b[0;34m)\u001b[0m \u001b[0;32mfrom\u001b[0m \u001b[0merr\u001b[0m\u001b[0;34m\u001b[0m\u001b[0;34m\u001b[0m\u001b[0m\n\u001b[0m\u001b[1;32m   3813\u001b[0m         \u001b[0;32mexcept\u001b[0m \u001b[0mTypeError\u001b[0m\u001b[0;34m:\u001b[0m\u001b[0;34m\u001b[0m\u001b[0;34m\u001b[0m\u001b[0m\n\u001b[1;32m   3814\u001b[0m             \u001b[0;31m# If we have a listlike key, _check_indexing_error will raise\u001b[0m\u001b[0;34m\u001b[0m\u001b[0;34m\u001b[0m\u001b[0m\n",
            "\u001b[0;31mKeyError\u001b[0m: 'Val'"
          ]
        }
      ]
    },
    {
      "cell_type": "markdown",
      "source": [
        "________________________________________________________________________________________________________________________________________________________________________________________________________________________________________________________________________________________________________________________________________________________________________________________________________________________________________________________________________________________________"
      ],
      "metadata": {
        "id": "rZboQd0Ujxre"
      }
    },
    {
      "cell_type": "markdown",
      "source": [
        "# Concatenation of castles"
      ],
      "metadata": {
        "id": "5yMFyUkOh42p"
      }
    },
    {
      "cell_type": "markdown",
      "source": [
        "All castles joined"
      ],
      "metadata": {
        "id": "MwEnZuCNnNAD"
      }
    },
    {
      "cell_type": "code",
      "source": [
        "df_towns = pd.concat([df_castle, df_rampart, df_tower, df_inferno, df_necropolis, df_dungeon, df_stronghold, df_fortress, df_conflux, df_cove] , axis = 0)"
      ],
      "metadata": {
        "id": "LefFmn6_Py25"
      },
      "execution_count": null,
      "outputs": []
    },
    {
      "cell_type": "markdown",
      "source": [
        "Preprocessing"
      ],
      "metadata": {
        "id": "xFH2hmxDsj3T"
      }
    },
    {
      "cell_type": "code",
      "source": [
        "df_towns['Level'] = df_towns['Lvl'].str.replace('+', '.5').str.replace('*', '')\n",
        "df_towns['Level'] = df_towns['Level'].astype(float)\n",
        "df_towns.drop('Lvl', axis = 1, inplace = True)"
      ],
      "metadata": {
        "id": "Tewi4Dd3sA3P"
      },
      "execution_count": null,
      "outputs": []
    },
    {
      "cell_type": "code",
      "source": [
        "df = df_towns[['Name', 'Town', 'Level', 'Att', 'Def', 'D-', 'D+', 'HP', 'Spd', 'Grw', 'Val','cum_val','Cost', 'Unnamed: 12_level_1', 'Special']]\n",
        "df['Unnamed: 12_level_1'] = df['Unnamed: 12_level_1'].fillna('0')\n",
        "df['Special'] = df['Special'].fillna('No')\n",
        "df = df.rename(columns={'Unnamed: 12_level_1':'Resource'})\n",
        "df['Resource'] = df['Resource'].str.get(-1).astype(int)\n",
        "df['Ranged'] = df['Special'].apply(lambda x:\n",
        "                                   1 if 'Ranged' in x else\n",
        "                                   0)\n",
        "df['Flyer'] = df['Special'].apply(lambda x:\n",
        "                                  1 if 'Fly' in x or 'Teleporting' in x or 'Teleport' in x else\n",
        "                                  0)\n",
        "df['no_retaliation'] = df['Special'].apply(lambda x:\n",
        "                                           1 if 'No enemy retaliation' in x else\n",
        "                                           (0.2 if any(s in x for s in ['Petrify', 'Paralyze']) else\n",
        "                                           0))\n",
        "df['Upgraded'] = df['Level'].apply(lambda x:\n",
        "                                   1 if ((x / 0.5)%2 == 1) else\n",
        "                                   0)"
      ],
      "metadata": {
        "id": "LZxj3egTPpOj"
      },
      "execution_count": null,
      "outputs": []
    },
    {
      "cell_type": "markdown",
      "source": [
        "________________________________________________________________________________________________________________________________"
      ],
      "metadata": {
        "id": "znJ3bF6Rj1WP"
      }
    },
    {
      "cell_type": "markdown",
      "source": [
        "# Checking for AI and Fight values"
      ],
      "metadata": {
        "id": "Sk0RpAAwiCJO"
      }
    },
    {
      "cell_type": "markdown",
      "source": [
        "Adding AI value and Fight Value"
      ],
      "metadata": {
        "id": "N8loyZRzJD58"
      }
    },
    {
      "cell_type": "code",
      "source": [
        "path_sod = '/content/h3_ai_value_sod.xlsx'\n",
        "path_hoa = '/content/h3_ai_value_hoa.xlsx'\n",
        "\n",
        "df_ai_value_sod = pd.read_excel(path_sod)\n",
        "df_ai_value_hoa = pd.read_excel(path_hoa)"
      ],
      "metadata": {
        "id": "rCx6eSMzI7aj"
      },
      "execution_count": null,
      "outputs": []
    },
    {
      "cell_type": "code",
      "source": [
        "df_ai_value_sod['Creature'] = df_ai_value_sod['Creature'].str.strip()\n",
        "df_ai_value_hoa['Creature'] = df_ai_value_hoa['Creature'].str.strip()\n",
        "df = df.merge(df_ai_value_hoa, how = 'left', left_on = 'Name', right_on = 'Creature')"
      ],
      "metadata": {
        "id": "oPheGrgQJ6I5"
      },
      "execution_count": null,
      "outputs": []
    },
    {
      "cell_type": "code",
      "source": [
        "df.tail(5)"
      ],
      "metadata": {
        "id": "bouyuWFQujYL"
      },
      "execution_count": null,
      "outputs": []
    },
    {
      "cell_type": "markdown",
      "source": [
        "_________________________________________________________________________________________________________________"
      ],
      "metadata": {
        "id": "5Y336XC7js9e"
      }
    },
    {
      "cell_type": "markdown",
      "source": [
        "We used Horn of the Abyss Ai value and Fight Value, because Shadow of Death did not have records for Cove units. However, we displayed the differences in the following lines."
      ],
      "metadata": {
        "id": "GO1lXprqWqMP"
      }
    },
    {
      "cell_type": "code",
      "source": [
        "df_merged = df_ai_value_sod.merge(df_ai_value_hoa, on = 'Creature', how = 'left')"
      ],
      "metadata": {
        "id": "nSbymPDQWpcY"
      },
      "execution_count": null,
      "outputs": []
    },
    {
      "cell_type": "code",
      "source": [
        "df_merged['AI_dif'] = df_merged['AI Value_y'] - df_merged['AI Value_x']\n",
        "df_merged['Fight_dif'] = df_merged['Fight Value_y'] - df_merged['Fight Value_x']\n",
        "df_diff = df_merged[(df_merged['AI_dif'] != 0) | (df_merged['Fight_dif'] != 0)].head(500)"
      ],
      "metadata": {
        "id": "g9am7aE7W6CN"
      },
      "execution_count": null,
      "outputs": []
    },
    {
      "cell_type": "code",
      "source": [
        "df_diff.head(20)"
      ],
      "metadata": {
        "id": "UlsphDuBW6FG"
      },
      "execution_count": null,
      "outputs": []
    },
    {
      "cell_type": "code",
      "source": [
        "print('There were only {} differences. There where {} neutral creatures, and {} factions\\' creatures. \\nRegarding the towns\\' changes, we note the {}, {} and {}.\\nSo, we will keep the HoA scores.' \\\n",
        "      .format(df_diff.shape[0], df_diff.loc[[3,93]].shape[0], df_diff.loc[[17,30,76]].shape[0], df_diff.loc[17, 'Creature'], df_diff.loc[30, 'Creature'], df_diff.loc[76, 'Creature']))"
      ],
      "metadata": {
        "id": "5IAxDSdbW6IR"
      },
      "execution_count": null,
      "outputs": []
    },
    {
      "cell_type": "markdown",
      "source": [
        "________________________________________________________________________________________________________"
      ],
      "metadata": {
        "id": "Rzbd1cEFk_DY"
      }
    },
    {
      "cell_type": "markdown",
      "source": [
        "# Clean df - starting point"
      ],
      "metadata": {
        "id": "gjbaAJLbiNxK"
      }
    },
    {
      "cell_type": "code",
      "source": [
        "df0 = df.drop(['Creature'], axis = 1)"
      ],
      "metadata": {
        "id": "3I8vbHhulxc_"
      },
      "execution_count": null,
      "outputs": []
    },
    {
      "cell_type": "code",
      "source": [
        "df0.head()"
      ],
      "metadata": {
        "id": "L3tJ5-dJP5wg"
      },
      "execution_count": null,
      "outputs": []
    },
    {
      "cell_type": "code",
      "source": [
        "df = df0.copy()"
      ],
      "metadata": {
        "id": "vDHICGf3YaLZ"
      },
      "execution_count": null,
      "outputs": []
    },
    {
      "cell_type": "markdown",
      "source": [
        "End of first part: df0 is the starting dataframe"
      ],
      "metadata": {
        "id": "arBUNQ0OrlFI"
      }
    },
    {
      "cell_type": "markdown",
      "source": [
        "_____________"
      ],
      "metadata": {
        "id": "aQ3a4MJ9rliQ"
      }
    },
    {
      "cell_type": "markdown",
      "source": [
        "\n",
        "___________"
      ],
      "metadata": {
        "id": "CnybB0Vprlwd"
      }
    },
    {
      "cell_type": "markdown",
      "source": [
        "__________________________________________________________________________________________________________________________________________________________"
      ],
      "metadata": {
        "id": "AyotR_WPmrLC"
      }
    },
    {
      "cell_type": "markdown",
      "source": [
        "# Enhancing the df with new columns"
      ],
      "metadata": {
        "id": "lpmr0Q94iWcT"
      }
    },
    {
      "cell_type": "markdown",
      "source": [
        "PART II - Preprocessing and enhancing the data"
      ],
      "metadata": {
        "id": "UmWDVA0V_m18"
      }
    },
    {
      "cell_type": "markdown",
      "source": [
        "Enhancing the data with special ability modelling: multiple attacks, magic immunity/resistance, spell casting etc."
      ],
      "metadata": {
        "id": "-A82JepuXLpc"
      }
    },
    {
      "cell_type": "markdown",
      "source": [
        "1. Multiple attacks column"
      ],
      "metadata": {
        "id": "xEg-_O843nEA"
      }
    },
    {
      "cell_type": "code",
      "source": [
        "df['multi_att'] = df['Special'].apply(lambda x:\n",
        "                                      1 if 'Double attack' in x or 'Ferocity' in x else\n",
        "                                      0.5 if 'all adjacent' in x else\n",
        "                                      0.3 if any(item in x for item in ['Breath attack', '3-headed attack', 'Death blow', 'Unlimited', 'Fireball attack', 'Death cloud'])\n",
        "                                      else 0)"
      ],
      "metadata": {
        "id": "pCo5wthvWhYh"
      },
      "execution_count": null,
      "outputs": []
    },
    {
      "cell_type": "markdown",
      "source": [
        "Checking the results\n"
      ],
      "metadata": {
        "id": "q_rR-pqKWjm-"
      }
    },
    {
      "cell_type": "code",
      "source": [
        "words = ['Double', 'Breath', 'Ferocity', 'adjacent', '3-headed', 'Death blow', 'Unlimited', 'Fireball attack', 'Death cloud']\n",
        "pattern = '|'.join(words)\n",
        "mask = df['Special'].str.contains(pattern)\n",
        "# df[mask]"
      ],
      "metadata": {
        "id": "3QX3qbjw0k0h"
      },
      "execution_count": null,
      "outputs": []
    },
    {
      "cell_type": "code",
      "source": [],
      "metadata": {
        "id": "jKwA0hjvg_zI"
      },
      "execution_count": null,
      "outputs": []
    },
    {
      "cell_type": "markdown",
      "source": [
        "___________________________________________________________________________\n",
        "2. Poisonous, aging, disease and similar effects.\n"
      ],
      "metadata": {
        "id": "WWT9vEcvY3ZN"
      }
    },
    {
      "cell_type": "code",
      "source": [
        "df['poison'] = df['Special'].apply(lambda x:\n",
        "                                      1 if 'Poison' in x or 'Disease' in x or 'Aging' in x\n",
        "                                      else 0)"
      ],
      "metadata": {
        "id": "VG1T6gU7Z7Nf"
      },
      "execution_count": null,
      "outputs": []
    },
    {
      "cell_type": "markdown",
      "source": [
        "Checking the results."
      ],
      "metadata": {
        "id": "ljZBlRYFgJH2"
      }
    },
    {
      "cell_type": "code",
      "source": [
        "words_poison = ['Poison', 'Disease', 'Aging']\n",
        "pattern_poison = '|'.join(words_poison)\n",
        "mask = df['Special'].str.contains(pattern_poison)\n",
        "# df[mask]"
      ],
      "metadata": {
        "id": "eUHvfWFC5GCM"
      },
      "execution_count": null,
      "outputs": []
    },
    {
      "cell_type": "markdown",
      "source": [
        "___________________________________________________________________________\n",
        "3. Immunity to some sort of spells."
      ],
      "metadata": {
        "id": "5H2uh7UF5Agd"
      }
    },
    {
      "cell_type": "code",
      "source": [
        "df['immunity'] = df['Special'].apply(lambda x:\n",
        "                                     1 if ' Magic immunity' in x else\n",
        "                                     0.75 if '1-4 lvl spells immunity' in x else\n",
        "                                     0.5 if  '1-3 lvl spells immunity' in x else\n",
        "                                     0.25 if 'Fire immunity' in x else\n",
        "                                     0.10 if (any(item in x for item in ['Immunity to Mind spells', 'Elemental', 'Unliving', 'Undead']) & ('Magic immunity' not in x)) else\n",
        "                                     0.03 if any(item in x for item in ['Immune to jousting', 'Immune to Blinding', 'Immune to ice'])\n",
        "                                     else 0)"
      ],
      "metadata": {
        "id": "hsdzk71OhUkf"
      },
      "execution_count": null,
      "outputs": []
    },
    {
      "cell_type": "markdown",
      "source": [
        "Checking the results"
      ],
      "metadata": {
        "id": "O0HCnc5Kn_gO"
      }
    },
    {
      "cell_type": "code",
      "source": [
        "words_immune = ['Immune', 'Immunity', 'immunity', 'Unliving', 'Undead']\n",
        "pattern_immune = '|'.join(words_immune)\n",
        "mask2 = df['Special'].str.contains(pattern_immune)\n",
        "# df[mask2].head(5)"
      ],
      "metadata": {
        "id": "tVt0Pr2t3vRr"
      },
      "execution_count": null,
      "outputs": []
    },
    {
      "cell_type": "code",
      "source": [],
      "metadata": {
        "id": "AvQTAwAGW0Ki"
      },
      "execution_count": null,
      "outputs": []
    },
    {
      "cell_type": "markdown",
      "source": [
        "___________________________________________________________________________________________________\n",
        "3. Magic resistance or spell eater."
      ],
      "metadata": {
        "id": "VDvE-99_6MFx"
      }
    },
    {
      "cell_type": "code",
      "source": [
        "words_resistance = ['Resistance', 'resistance', 'resistant', 'Resists', 'resists', 'Magic damper', 'Mana drain', 'Spells cost -2 sp', 'Magic channel']\n",
        "pattern_resistance = '|'.join(words_resistance)\n",
        "mask_resistance = df['Special'].str.contains(pattern_resistance)\n",
        "# df[mask_resistance]"
      ],
      "metadata": {
        "id": "N-df67r55KVO"
      },
      "execution_count": null,
      "outputs": []
    },
    {
      "cell_type": "code",
      "source": [
        "df['resistance'] = df['Special'].apply(lambda x:\n",
        "                                      1 if any(s in x for s in ['Resistance', 'resistance', 'resistant',\n",
        "                                                                'Resists', 'resists', 'Magic damper',\n",
        "                                                                'Mana drain', 'Spells cost -2 sp', 'Magic channel'])\n",
        "                                      else 0)\n",
        "\n",
        "#must be revisited, not proper"
      ],
      "metadata": {
        "id": "C6N2LBMMuYR9"
      },
      "execution_count": null,
      "outputs": []
    },
    {
      "cell_type": "code",
      "source": [],
      "metadata": {
        "id": "SXwi1X761k1q"
      },
      "execution_count": null,
      "outputs": []
    },
    {
      "cell_type": "markdown",
      "source": [
        "Caster column"
      ],
      "metadata": {
        "id": "egaptdBE6PIB"
      }
    },
    {
      "cell_type": "code",
      "source": [
        "words_caster = ['Cast', 'cast', 'Weakness', 'Dispel', 'Curse', 'Spellcaster', 'Resurrect', 'shield']\n",
        "pattern_caster = '|'.join(words_caster)\n",
        "mask_caster = df['Special'].str.contains(pattern_caster)\n",
        "# df[mask_caster]"
      ],
      "metadata": {
        "id": "VLSNC9ww1k42"
      },
      "execution_count": null,
      "outputs": []
    },
    {
      "cell_type": "code",
      "source": [
        "df['caster'] = df['Special'].apply(lambda x: 1 if any(s in x for s in ['Cast', 'cast', 'Weakness', 'Dispel', 'Curse', 'Spellcaster', 'Resurrect', 'shield'])\n",
        "                                              else 0)"
      ],
      "metadata": {
        "id": "RkaItSUc1k-3"
      },
      "execution_count": null,
      "outputs": []
    },
    {
      "cell_type": "code",
      "source": [],
      "metadata": {
        "id": "3XyIN96djLfm"
      },
      "execution_count": null,
      "outputs": []
    },
    {
      "cell_type": "markdown",
      "source": [
        "Average damage, mean-att-def and percentage difference between AI and Fight values."
      ],
      "metadata": {
        "id": "i7sZy3IujOXl"
      }
    },
    {
      "cell_type": "code",
      "source": [
        "df['dmg'] = (df['D+'] + df['D-'])/2\n",
        "df['attdef'] = (df['Att'] + df['Def'])/2\n",
        "df['diff_'] = round(((df['AI Value'] - df['Fight Value'])/df['Fight Value'])*100,0).astype(int)"
      ],
      "metadata": {
        "id": "btG2BUJSjLpN"
      },
      "execution_count": null,
      "outputs": []
    },
    {
      "cell_type": "code",
      "source": [],
      "metadata": {
        "id": "QF7aA_EMjdkG"
      },
      "execution_count": null,
      "outputs": []
    },
    {
      "cell_type": "markdown",
      "source": [
        "Adding growth column with special buildings on each town that increases dwellings."
      ],
      "metadata": {
        "id": "O5K5JeHljef-"
      }
    },
    {
      "cell_type": "code",
      "source": [
        "df['Grw_full'] = (df['Grw'] * 2.0).astype(int)\n",
        "df['Grw_special'] = 0"
      ],
      "metadata": {
        "id": "ySCeXJRyjdp_"
      },
      "execution_count": null,
      "outputs": []
    },
    {
      "cell_type": "code",
      "source": [
        "#Castle\n",
        "#Griffin Bastion\n",
        "df.loc[4,'Grw_special'] = 3\n",
        "df.loc[5,'Grw_special'] = 3\n",
        "\n",
        "#Rampart\n",
        "#Dendroid Saplings\n",
        "df.loc[[22,23],'Grw_special'] = 2\n",
        "#Miner's Guild\n",
        "df.loc[[16,17],'Grw_special'] = 4\n",
        "\n",
        "#Tower\n",
        "#Sculptor's Wings\n",
        "df.loc[[30,31],'Grw_special'] = 4\n",
        "\n",
        "#Inferno\n",
        "#Birthing pool\n",
        "df.loc[[42,43],'Grw_special'] = 8\n",
        "#Cages\n",
        "df.loc[[46,47],'Grw_special'] = 3\n",
        "\n",
        "#Necropolis\n",
        "#Unearthed graves\n",
        "df.loc[[56,57], 'Grw_special'] = 6\n",
        "\n",
        "#Dungeon\n",
        "#Mushroom rings\n",
        "df.loc[[70,71], 'Grw_special'] = 7\n",
        "\n",
        "#Stronghold\n",
        "#Mess hall\n",
        "df.loc[[84,85], 'Grw_special'] = 8\n",
        "\n",
        "#Fortress\n",
        "#Captain quarters\n",
        "df.loc[[98,99], 'Grw_special'] = 6\n",
        "\n",
        "#Conflux\n",
        "#Garden of life\n",
        "df.loc[[112,113], 'Grw_special'] = 10\n",
        "#we ignore Vault of Ashes in HoA which gives +1 Phoenix. We consider it OP.\n",
        "\n",
        "#Cove\n",
        "#Pub\n",
        "df.loc[[128,129], 'Grw_special'] = 4\n",
        "#Roost\n",
        "df.loc[[132,133], 'Grw_special'] = 3\n",
        "\n",
        "\n",
        "df['Grw_total'] = df['Grw_full'] + df['Grw_special']"
      ],
      "metadata": {
        "id": "oSy9iVOvjp_d"
      },
      "execution_count": null,
      "outputs": []
    },
    {
      "cell_type": "code",
      "source": [
        "df.head()"
      ],
      "metadata": {
        "id": "x0ezOwgslxoQ"
      },
      "execution_count": null,
      "outputs": []
    },
    {
      "cell_type": "markdown",
      "source": [
        "Intermediate dataframe with calculation for growth."
      ],
      "metadata": {
        "id": "-n4fvW-6j4en"
      }
    },
    {
      "cell_type": "code",
      "source": [
        "df_growth = df[['Name','Town', 'Level', 'Grw','Grw_full', 'Grw_special', 'Grw_total']]\n",
        "df_growth.head()"
      ],
      "metadata": {
        "id": "23fL5KEGjusv"
      },
      "execution_count": null,
      "outputs": []
    },
    {
      "cell_type": "code",
      "source": [
        "df = df[['Name', 'Town', 'Level', 'Att', 'Def', 'D-', 'D+', 'HP', 'Spd', 'Grw',\n",
        "       'Val', 'cum_val', 'Cost', 'Resource', 'Special', 'Ranged', 'Flyer',\n",
        "       'no_retaliation', 'Upgraded', 'AI Value', 'Fight Value', 'diff_', 'multi_att',\n",
        "       'poison', 'immunity', 'resistance', 'caster', 'dmg', 'attdef', 'Grw_total']]"
      ],
      "metadata": {
        "id": "km7PGSmqkFLg"
      },
      "execution_count": null,
      "outputs": []
    },
    {
      "cell_type": "code",
      "source": [
        "df.head()"
      ],
      "metadata": {
        "id": "PlMtxD8Mlc_P"
      },
      "execution_count": null,
      "outputs": []
    },
    {
      "cell_type": "code",
      "source": [
        "df.to_csv('/content/df_h3')"
      ],
      "metadata": {
        "id": "30JDM4kLju7m"
      },
      "execution_count": null,
      "outputs": []
    },
    {
      "cell_type": "markdown",
      "source": [
        "# Exporting and importing csv"
      ],
      "metadata": {
        "id": "N9No92tGczBT"
      }
    },
    {
      "cell_type": "code",
      "source": [
        "df = pd.read_csv('/content/df_h3')"
      ],
      "metadata": {
        "id": "tLVpOPeIc32b"
      },
      "execution_count": null,
      "outputs": []
    },
    {
      "cell_type": "markdown",
      "source": [
        "# EDA and testing area"
      ],
      "metadata": {
        "id": "UYcSqFvJjGQA"
      }
    },
    {
      "cell_type": "markdown",
      "source": [
        "## Speed analysis"
      ],
      "metadata": {
        "id": "CJgmuCBZtZ5G"
      }
    },
    {
      "cell_type": "markdown",
      "source": [
        "We only use the upgraded creatures from now on."
      ],
      "metadata": {
        "id": "r3DFdqI7uGLR"
      }
    },
    {
      "cell_type": "code",
      "source": [
        "df_upg = df[df['Upgraded'] == 1]"
      ],
      "metadata": {
        "id": "EmneO_rqun4z"
      },
      "execution_count": null,
      "outputs": []
    },
    {
      "cell_type": "markdown",
      "source": [
        "1st, 2nd and 3rd fastest"
      ],
      "metadata": {
        "id": "bILM-V_vteUt"
      }
    },
    {
      "cell_type": "code",
      "source": [
        "castle_list_2max = list(df_upg['Town'].unique())\n",
        "\n",
        "spd_list_2max = []\n",
        "\n",
        "for name in castle_list_2max:\n",
        "  speed_2min = df_upg[df_upg['Town'] == name]['Spd'].sort_values(ascending = False).iloc[1]\n",
        "  spd_list_2max.append(speed_2min)"
      ],
      "metadata": {
        "id": "LmW7cRF-tlEu"
      },
      "execution_count": null,
      "outputs": []
    },
    {
      "cell_type": "code",
      "source": [
        "df_2max = pd.DataFrame({'Town': castle_list_2max, '2max': spd_list_2max})\n",
        "df_2max"
      ],
      "metadata": {
        "id": "t_P4rj6kkJ71"
      },
      "execution_count": null,
      "outputs": []
    },
    {
      "cell_type": "code",
      "source": [
        "castle_list_3max = list(df_upg['Town'].unique())\n",
        "\n",
        "spd_list_3max = []\n",
        "\n",
        "for name in castle_list_3max:\n",
        "  speed_2max = df_upg[df_upg['Town'] == name]['Spd'].sort_values(ascending = False).iloc[2]\n",
        "  spd_list_3max.append(speed_2max)"
      ],
      "metadata": {
        "id": "_rLLPsPBtpQn"
      },
      "execution_count": null,
      "outputs": []
    },
    {
      "cell_type": "code",
      "source": [
        "df_3max = pd.DataFrame({'Town1': castle_list_3max, '3max': spd_list_3max})\n",
        "df_3max"
      ],
      "metadata": {
        "id": "92CQJJ7YtpTf"
      },
      "execution_count": null,
      "outputs": []
    },
    {
      "cell_type": "code",
      "source": [
        "df_top3_speed = pd.concat([df_2max, df_3max], axis = 1)\n",
        "df_top3_speed.drop('Town1', axis = 1, inplace = True)\n",
        "df_top3_speed = df_top3_speed.set_index('Town')"
      ],
      "metadata": {
        "id": "ieqWzX2xtpWI"
      },
      "execution_count": null,
      "outputs": []
    },
    {
      "cell_type": "markdown",
      "source": [
        "Overall speed analysis"
      ],
      "metadata": {
        "id": "f0UXAT0ItxOA"
      }
    },
    {
      "cell_type": "code",
      "source": [
        "df_spd = pd.concat([merge, df_top3_speed], axis=1)"
      ],
      "metadata": {
        "id": "CcSy0vugSebn"
      },
      "execution_count": null,
      "outputs": []
    },
    {
      "cell_type": "code",
      "source": [
        "df_spd = df_spd[['min', 'mean','max', '2max', '3max']]\n",
        "df_spd['mean'] = round(df_spd['mean'],1)"
      ],
      "metadata": {
        "id": "tGsiTrjIfBu-"
      },
      "execution_count": null,
      "outputs": []
    },
    {
      "cell_type": "code",
      "source": [
        "df_spd.columns = ['min', 'mean', '1st', '2nd', '3rd',]"
      ],
      "metadata": {
        "id": "iR3UfIiTfju7"
      },
      "execution_count": null,
      "outputs": []
    },
    {
      "cell_type": "code",
      "source": [
        "df_spd['first3'] = round(df_spd[['1st', '2nd', '3rd']].mean(axis=1),1)\n",
        "df_spd['first3_std'] = round(df_spd[['1st', '2nd', '3rd']].std(axis=1),1)"
      ],
      "metadata": {
        "id": "UiWrqHl8gS8k"
      },
      "execution_count": null,
      "outputs": []
    },
    {
      "cell_type": "code",
      "source": [
        "df_spd['mean_diff'] = round(((df_spd['first3'] - df_spd['mean'])/df_spd['mean'])*100,1)"
      ],
      "metadata": {
        "id": "gbwArbc3iOVo"
      },
      "execution_count": null,
      "outputs": []
    },
    {
      "cell_type": "code",
      "source": [
        "df_spd.sort_values('first3', ascending = False).head(10)"
      ],
      "metadata": {
        "id": "nFKeX7xVfUcW"
      },
      "execution_count": null,
      "outputs": []
    },
    {
      "cell_type": "code",
      "source": [
        "fortress_speed_mean = df_upg.groupby('Town')['Spd'].mean().sort_values(ascending = False)\n",
        "fortress_speed_max = df_upg.groupby('Town')['Spd'].max().sort_values(ascending = False)\n",
        "fortress_speed_min = df_upg.groupby('Town')['Spd'].min().sort_values(ascending = False)\n",
        "merge = pd.concat([fortress_speed_mean,fortress_speed_max, fortress_speed_min], axis=1, names = ['mean', 'max', 'min'])\n",
        "merge.columns = ['mean', 'max', 'min']\n",
        "# merge.reset_index(inplace = True)"
      ],
      "metadata": {
        "id": "Q5UszdLmvg8h"
      },
      "execution_count": null,
      "outputs": []
    },
    {
      "cell_type": "code",
      "source": [
        "merge = merge.sort_values(by = 'mean', ascending = True)\n",
        "merge.head(10)"
      ],
      "metadata": {
        "id": "U1nPKQvBvg_I"
      },
      "execution_count": null,
      "outputs": []
    },
    {
      "cell_type": "code",
      "source": [
        "first3_scatter = list(df_spd['first3'])"
      ],
      "metadata": {
        "id": "tGWTNIsuwXPw"
      },
      "execution_count": null,
      "outputs": []
    },
    {
      "cell_type": "code",
      "source": [
        "plt.errorbar(y = merge.index, x = merge['mean'], xerr = [merge['mean'] - merge['min'], merge['max'] - merge['mean']], fmt = 'o', )\n",
        "plt.title('Speed for each faction (upg.): min - mean - top3 - max')\n",
        "plt.axvline(x=7.71, color='green', linestyle= (0, (1, 10)), linewidth=1.1)\n",
        "plt.axvline(x=13, color='green', linestyle=(0, (1, 10)), linewidth=1.5)\n",
        "plt.xticks([4, 7.71, 13, 17, 21], labels = ['min', 'Fortress mean', 'Fortress max', 'Archdevil', 'Phoenix'], rotation = 10)\n",
        "\n",
        "plt.scatter(x = first3_scatter,\n",
        "            y = merge.index,\n",
        "            marker=\">\",\n",
        "            color='grey')\n",
        "\n",
        "plt.show()"
      ],
      "metadata": {
        "id": "Nb1B9gK9vhB2"
      },
      "execution_count": null,
      "outputs": []
    },
    {
      "cell_type": "code",
      "source": [],
      "metadata": {
        "id": "hecMMxRdvhEr"
      },
      "execution_count": null,
      "outputs": []
    },
    {
      "cell_type": "code",
      "source": [],
      "metadata": {
        "id": "WqkkRbJuvhHa"
      },
      "execution_count": null,
      "outputs": []
    },
    {
      "cell_type": "code",
      "source": [],
      "metadata": {
        "id": "V3Np2Z8avhJ3"
      },
      "execution_count": null,
      "outputs": []
    },
    {
      "cell_type": "code",
      "source": [],
      "metadata": {
        "id": "qCVaUq-NODbw"
      },
      "execution_count": null,
      "outputs": []
    },
    {
      "cell_type": "markdown",
      "source": [
        "## Ranged value"
      ],
      "metadata": {
        "id": "5ljLgd0yuNPi"
      }
    },
    {
      "cell_type": "code",
      "source": [
        "df_ranged = df_upg[['Name', 'Town', 'AI Value', 'Fight Value', 'Ranged', 'Grw_total', 'Upgraded']]\n",
        "df_ranged = df_ranged[df_ranged['Upgraded'] == 1]"
      ],
      "metadata": {
        "id": "fj4hYhymOnZm"
      },
      "execution_count": null,
      "outputs": []
    },
    {
      "cell_type": "code",
      "source": [
        "df_ranged.head()"
      ],
      "metadata": {
        "id": "pk4HET4iPpc_"
      },
      "execution_count": null,
      "outputs": []
    },
    {
      "cell_type": "code",
      "source": [
        "df_ranged['ranged_value'] = df_ranged['AI Value'] * df_ranged['Grw_total'] * df_ranged['Ranged']"
      ],
      "metadata": {
        "id": "aBZedOf2OncE"
      },
      "execution_count": null,
      "outputs": []
    },
    {
      "cell_type": "code",
      "source": [
        "df_ranged.groupby('Town')['ranged_value'].sum().sort_values(ascending = False)"
      ],
      "metadata": {
        "id": "u8LgXCp5One-"
      },
      "execution_count": null,
      "outputs": []
    },
    {
      "cell_type": "code",
      "source": [],
      "metadata": {
        "id": "LsEZkqTIOnht"
      },
      "execution_count": null,
      "outputs": []
    },
    {
      "cell_type": "markdown",
      "source": [
        "## Flyer value"
      ],
      "metadata": {
        "id": "wxJdKthpUGTT"
      }
    },
    {
      "cell_type": "code",
      "source": [
        "df_flyer= df_upg[['Name', 'Town', 'AI Value', 'Fight Value', 'Flyer', 'Grw_total', 'Upgraded']]\n",
        "df_flyer = df_flyer[df_flyer['Upgraded'] == 1]"
      ],
      "metadata": {
        "id": "vPeY7jQxOnkE"
      },
      "execution_count": null,
      "outputs": []
    },
    {
      "cell_type": "code",
      "source": [
        "df_flyer.head()"
      ],
      "metadata": {
        "id": "6dhY-qhsUbGs"
      },
      "execution_count": null,
      "outputs": []
    },
    {
      "cell_type": "code",
      "source": [
        "df_flyer['flyer_value'] = df_flyer['AI Value'] * df_flyer['Grw_total'] * df_flyer['Flyer']\n",
        "df_flyer['flyer_value_fight'] = df_flyer['Fight Value'] * df_flyer['Grw_total'] * df_flyer['Flyer']"
      ],
      "metadata": {
        "id": "C-KLzeqVUjWv"
      },
      "execution_count": null,
      "outputs": []
    },
    {
      "cell_type": "code",
      "source": [
        "df_flyer.head()"
      ],
      "metadata": {
        "id": "Y4R2g_d7VHb_"
      },
      "execution_count": null,
      "outputs": []
    },
    {
      "cell_type": "code",
      "source": [
        "df_flyer.groupby('Town')['flyer_value'].sum().sort_values(ascending = False)"
      ],
      "metadata": {
        "id": "upCAE7pIUbJ1"
      },
      "execution_count": null,
      "outputs": []
    },
    {
      "cell_type": "markdown",
      "source": [
        "## Fight value"
      ],
      "metadata": {
        "id": "d04HRQ9ELike"
      }
    },
    {
      "cell_type": "code",
      "source": [
        "df_fight =  df_upg[['Name', 'Town', 'Fight Value', 'Grw_total', 'Upgraded']]"
      ],
      "metadata": {
        "id": "CzkNQ676LpYD"
      },
      "execution_count": null,
      "outputs": []
    },
    {
      "cell_type": "code",
      "source": [
        "df_fight['fight_value'] = df_fight['Fight Value'] * df_fight['Grw_total']\n",
        "df_fight.head()"
      ],
      "metadata": {
        "id": "aEC9MiZHL3zc"
      },
      "execution_count": null,
      "outputs": []
    },
    {
      "cell_type": "code",
      "source": [
        "df_fight.groupby('Town')['fight_value'].sum().sort_values(ascending = True).plot(kind = 'barh', title = 'How much raw fight power Factions have ?')"
      ],
      "metadata": {
        "id": "psP7dKSOL32b"
      },
      "execution_count": null,
      "outputs": []
    },
    {
      "cell_type": "code",
      "source": [],
      "metadata": {
        "id": "qhSpojv_L35d"
      },
      "execution_count": null,
      "outputs": []
    },
    {
      "cell_type": "markdown",
      "source": [
        "## Damage"
      ],
      "metadata": {
        "id": "2ita6zQkOX9z"
      }
    },
    {
      "cell_type": "markdown",
      "source": [
        "### Damage variation"
      ],
      "metadata": {
        "id": "mPx6AXjdhRss"
      }
    },
    {
      "cell_type": "code",
      "source": [
        "df_dmg = df_upg[['Name', 'Town', 'D-', 'D+', 'Grw_total']]"
      ],
      "metadata": {
        "id": "J-5j4OoDuKDu"
      },
      "execution_count": null,
      "outputs": []
    },
    {
      "cell_type": "code",
      "source": [
        "df_dmg['dmg_avg'] = (df_dmg['D+'] + df_dmg['D-']) /2\n",
        "df_dmg['dmg_avg_total'] = df_dmg['dmg_avg'] * df_dmg['Grw_total']\n",
        "df_dmg['dmg+_total'] = df_dmg['D+'] * df_dmg['Grw_total']\n",
        "df_dmg['dmg_range_total'] = round(df_dmg['dmg+_total'] - df_dmg['dmg_avg_total'])\n",
        "df_dmg['dmg_perc_range_per_unit'] = round(((df_dmg['D+'] - df_dmg['dmg_avg'])/ df_dmg['dmg_avg']),2)    *100"
      ],
      "metadata": {
        "id": "CxyDsJvxX6JE"
      },
      "execution_count": null,
      "outputs": []
    },
    {
      "cell_type": "code",
      "source": [
        "df_dmg[(df_dmg['Town'] == 'Conflux') | (df_dmg['Town'] == 'Castle')]"
      ],
      "metadata": {
        "id": "Pzy1-jSZYWwd"
      },
      "execution_count": null,
      "outputs": []
    },
    {
      "cell_type": "code",
      "source": [
        "df_dmg[(df_dmg['Name'] == 'Lizard Warrior') | (df_dmg['Name'] == 'Storm Elemental')]"
      ],
      "metadata": {
        "id": "YUqmZnJBfaiQ"
      },
      "execution_count": null,
      "outputs": []
    },
    {
      "cell_type": "code",
      "source": [
        "df_dmg.groupby('Town')['dmg_perc_range_per_unit'].mean().sort_values(ascending=True).plot(kind = 'barh' ,fontsize = 7)\n",
        "plt.xlabel(\"(Damage max - Damage average)% at each creature level\", fontsize=9.5)\n",
        "plt.ylabel(\"Factions\", fontsize=8)\n",
        "plt.title('How much damage variation at one unit on average in percentage ?')\n",
        "plt.show()"
      ],
      "metadata": {
        "id": "ul6E7HfeX6On"
      },
      "execution_count": null,
      "outputs": []
    },
    {
      "cell_type": "code",
      "source": [
        "df_dmg.groupby('Town')['dmg_range_total'].sum().sort_values(ascending=True).plot(kind = 'barh' ,fontsize = 7)\n",
        "plt.xlabel(\"(Damage max - Damage average) at all creature growth\", fontsize=9.5)\n",
        "plt.ylabel(\"Factions\", fontsize=8)\n",
        "plt.title('How much damage variation a week-dwelling provides ?')\n",
        "plt.show()"
      ],
      "metadata": {
        "id": "TMUhJoWhbDHW"
      },
      "execution_count": null,
      "outputs": []
    },
    {
      "cell_type": "markdown",
      "source": [
        "### Damage output"
      ],
      "metadata": {
        "id": "I-wKzFjkhame"
      }
    },
    {
      "cell_type": "code",
      "source": [
        "df_dmg.groupby('Town')['dmg_avg_total'].sum().sort_values(ascending=True).plot(kind = 'barh', fontsize = 7)\n",
        "plt.xlabel(\"Damage output on average at all creature growth\", fontsize=9.5)\n",
        "plt.ylabel(\"Factions\", fontsize=8)\n",
        "plt.title('How much damage a week-dwelling provides ?')\n",
        "plt.show()"
      ],
      "metadata": {
        "id": "_S-6tS9gheBP"
      },
      "execution_count": null,
      "outputs": []
    },
    {
      "cell_type": "code",
      "source": [],
      "metadata": {
        "id": "XMvqWf9SM5ff"
      },
      "execution_count": null,
      "outputs": []
    },
    {
      "cell_type": "markdown",
      "source": [
        "## Defence"
      ],
      "metadata": {
        "id": "l0MieEp7uUFl"
      }
    },
    {
      "cell_type": "code",
      "source": [],
      "metadata": {
        "id": "LpGVbyvEuXVS"
      },
      "execution_count": null,
      "outputs": []
    },
    {
      "cell_type": "markdown",
      "source": [
        "## Attack"
      ],
      "metadata": {
        "id": "-zmaYOW7uYHM"
      }
    },
    {
      "cell_type": "code",
      "source": [],
      "metadata": {
        "id": "bDgNIrbeuXaW"
      },
      "execution_count": null,
      "outputs": []
    },
    {
      "cell_type": "markdown",
      "source": [
        "## Specialities"
      ],
      "metadata": {
        "id": "prj26VEhudP7"
      }
    },
    {
      "cell_type": "code",
      "source": [],
      "metadata": {
        "id": "dQ6HK4cNuXdF"
      },
      "execution_count": null,
      "outputs": []
    },
    {
      "cell_type": "code",
      "source": [],
      "metadata": {
        "id": "aH35g9cfuix8"
      },
      "execution_count": null,
      "outputs": []
    },
    {
      "cell_type": "markdown",
      "source": [
        "# Factions analysis"
      ],
      "metadata": {
        "id": "2kTb4xSE4IdZ"
      }
    },
    {
      "cell_type": "markdown",
      "source": [
        "## Fortress"
      ],
      "metadata": {
        "id": "6TbWLsfE4OAZ"
      }
    },
    {
      "cell_type": "markdown",
      "source": [
        "Fortress is a town that focuses on defence and armorer. We expect an above-average defence potential which synergizes very well with armorer specialist heroes.\n",
        "\n",
        "Fortress also has the advantage of cheap development costs, and good early game creatures. We should expect very cost-efficient units and an early game speed and stats bonus.\n",
        "\n",
        "There are also a lot of specialities among the creature stack, which should allow for maneaveuring in the battle to compensate for low quality combat stats.\n",
        "\n",
        "This town creature stack is a bit slow and and the damage output has a lot of variation. We should find that haste and bless are the most beneficial spells for a Fortress hero."
      ],
      "metadata": {
        "id": "pXDGlTLH4Str"
      }
    },
    {
      "cell_type": "code",
      "source": [
        "df_upg[df_upg['Town'] == 'Fortress']"
      ],
      "metadata": {
        "id": "9Y-8jZnF4HWN"
      },
      "execution_count": null,
      "outputs": []
    },
    {
      "cell_type": "markdown",
      "source": [
        "Speed"
      ],
      "metadata": {
        "id": "RVfPvGtxknKw"
      }
    },
    {
      "cell_type": "code",
      "source": [
        "fortress_speed_mean = df_upg.groupby('Town')['Spd'].mean().sort_values(ascending = False)\n",
        "fortress_speed_max = df_upg.groupby('Town')['Spd'].max().sort_values(ascending = False)\n",
        "fortress_speed_min = df_upg.groupby('Town')['Spd'].min().sort_values(ascending = False)\n",
        "merge = pd.concat([fortress_speed_mean,fortress_speed_max, fortress_speed_min], axis=1, names = ['mean', 'max', 'min'])\n",
        "merge.columns = ['mean', 'max', 'min']\n",
        "# merge.reset_index(inplace = True)"
      ],
      "metadata": {
        "id": "Ed2HD00B4HcA"
      },
      "execution_count": null,
      "outputs": []
    },
    {
      "cell_type": "code",
      "source": [
        "merge = merge.sort_values(by = 'mean', ascending = True)\n",
        "merge.head(10)"
      ],
      "metadata": {
        "id": "PW-vfo5ldIas"
      },
      "execution_count": null,
      "outputs": []
    },
    {
      "cell_type": "code",
      "source": [
        "plt.errorbar(y = merge.index, x = merge['mean'], xerr = [merge['mean'] - merge['min'], merge['max'] - merge['mean']], fmt = 'o', )\n",
        "plt.title('Speed for Fortress (upg.) vs. all: min - mean - top3 - max', fontsize = 10)\n",
        "plt.axvline(x=7.71, color='green', linestyle= (0, (1, 10)), linewidth=1.1)\n",
        "plt.axvline(x=13, color='green', linestyle=(0, (1, 10)), linewidth=1.5)\n",
        "plt.xticks([4, 7.71, 13, 17, 21], labels = ['all min (4)', 'Fortress mean (7.71)', 'Dragon Fly (13)', 'Archdevil (17)', 'Phoenix (21)'], fontsize = 7, rotation = 10)\n",
        "plt.yticks(ticks = merge.index, fontsize = 8)\n",
        "\n",
        "\n",
        "\n",
        "plt.scatter(x = first3_scatter,\n",
        "            y = merge.index,\n",
        "            marker=\">\",\n",
        "            color='grey')\n",
        "\n",
        "ax = plt.gca()\n",
        "for tick in ax.get_yticklabels():\n",
        "    if tick.get_text() == 'Fortress':\n",
        "        tick.set_weight('bold')\n",
        "\n",
        "plt.show()"
      ],
      "metadata": {
        "id": "lJLdfY4ldFNA"
      },
      "execution_count": null,
      "outputs": []
    },
    {
      "cell_type": "markdown",
      "source": [
        "Fortress is the second slowest faction by average speed of its upgraded creatures, superior only to the other neutral faction, Stronghold.\n",
        "\n",
        "When considering the fastest unit, Dragon Fly ranks the Fortress on the 4th lowest position in maximum speed section, with a speed of 13. You will only move first when fighting against Cove, Stronghold or Tower, or by fighting in swamp battlefield with Necropolis.\n",
        "\n",
        "Your fastest 3 units ranks the 4th lowest when considering their mean. However, this trio is headed by two fragile fliers and a 7-speed unit. You will suffer heavily in this area, considering that you will ALWAYS have to attack the enemy because of lowest value in archery.\n",
        "\n",
        "Tactics is very important to Fortress heroes, but Witches almost never get it (only 1 percent chance). Beastmasters have a higher probability with 6 percent chance of getting the skill.\n",
        "\n",
        "While the 2nd fastest creature of Fortress is rather swift (Wyvern M., 11), It ranks last on the 3rd fastest unit, with only 7 speed for G. Basilisk. So you will most likely move 2nd with the Flies, then with Wyverns, and then you will have a break until your Basilisks and Hydras enter into play.\n",
        "\n",
        "Considering the fragility of your first two flier units, you will probabily not attack and wait until your grunts can make a move. Your best hand-to-hand units are very slow, with Gorgons having 6-speed and Hydras 7-speed.\n",
        "\n",
        "Naturally Haste spell is very usefull for Fortress units, the faction having 53 percent chances of getting it in the Magic Guild. Keep in mind that even with Expert Tactics, the Gorgons are not able to strike immediately.\n",
        "\n",
        "One more thing to consider is the speed of you best player, the Gorgon. Judging by its opponents, this unit is very slow, meaning that chances it gets negative magic is very high. If you don't protect you Gorgons, your chances to kill your opponent level 7 creatures decreases.\n",
        "\n",
        "The result of the battle hinges on your ability to efficiently fight with Gorgons against the level 7 units and use the Hydras multi-attack and no retaliation. They are both slow, 2-hexes, non-flyer, non-ranged but define your strategy. One way of efficiently using their abilities is by having the Teleport spell in your book. Fortunately, Fortress gets a 40 percent change of learning Teleport, but Water Magic rarely comes to its heroes.\n",
        "\n",
        "A Cove Navigator with great chances for Water Magic and Offence synergizes very well with Fortress's setup.\n",
        "\n"
      ],
      "metadata": {
        "id": "b0vyeq2LAkWo"
      }
    },
    {
      "cell_type": "code",
      "source": [
        "df_spd.sort_values('mean', ascending = False).head(10)"
      ],
      "metadata": {
        "id": "-AUKHtMBBALE"
      },
      "execution_count": null,
      "outputs": []
    },
    {
      "cell_type": "markdown",
      "source": [
        "Ranged value"
      ],
      "metadata": {
        "id": "CXLHyuqDQMOC"
      }
    },
    {
      "cell_type": "code",
      "source": [
        "df_ranged.groupby('Town')['ranged_value'].sum().sort_values(ascending = True).plot(kind = 'barh', fontsize = 7)\n",
        "plt.xlabel(\"Ranged value\", fontsize=8)\n",
        "plt.ylabel(\"Factions\", fontsize=8)\n",
        "plt.title('How much ranged value ?')\n",
        "\n",
        "ax = plt.gca()\n",
        "for tick in ax.get_yticklabels():\n",
        "  if tick.get_text() == 'Fortress':\n",
        "    tick.set_weight('bold')"
      ],
      "metadata": {
        "id": "8kybnogOBAX_"
      },
      "execution_count": null,
      "outputs": []
    },
    {
      "cell_type": "markdown",
      "source": [
        "Judging by the previous plot, you can see why you have to attack. Having only one weak archer forces you to cross the battlefield. Unfortunately this is made harder by your slow units and inefficient fliers. Since magic won't be on your side almost every time, your heavily depend on Tactics, Haste and Teleport.\n",
        "\n",
        "Water magic (with Dispel and Cure) becomes even more important since if you get Mass Slow, the game is pretty much over."
      ],
      "metadata": {
        "id": "YOqt3knxSFDQ"
      }
    },
    {
      "cell_type": "markdown",
      "source": [
        "Flyer value"
      ],
      "metadata": {
        "id": "a2JA5ZM6Vf2T"
      }
    },
    {
      "cell_type": "code",
      "source": [
        "df_flyer.groupby('Town')['flyer_value'].sum().sort_values(ascending = True).plot(kind = 'barh', fontsize = 7)\n",
        "plt.xlabel(\"Flyer value\", fontsize=8)\n",
        "plt.ylabel(\"Factions\", fontsize=8)\n",
        "plt.title('How much Flyer value ?')\n",
        "\n",
        "ax = plt.gca()\n",
        "for tick in ax.get_yticklabels():\n",
        "  if tick.get_text() == 'Fortress':\n",
        "    tick.set_weight('bold')"
      ],
      "metadata": {
        "id": "hhQm-Krl3u-J"
      },
      "execution_count": null,
      "outputs": []
    },
    {
      "cell_type": "markdown",
      "source": [
        "As you can, mobility is a problem even when considering Flyers value. Fortress ranks among the lowest with only Dragon Flies and the Monarchs.\n",
        "\n",
        "Only three Factions are rated lower, but compensate by being the best in the range area. Fortress is the only one with both weak rangers and flyers. Tower and Cove will have no rush to cross walls or battlefields with such a powerful ranged lineup. Stronghold has more options with his range and wall-demolition level-6 creature.\n",
        "\n",
        "This implies the necessity for tactical tricks in order to be able to get a fair fight.\n"
      ],
      "metadata": {
        "id": "iB0I3tIlVxnT"
      }
    },
    {
      "cell_type": "markdown",
      "source": [
        "Fight value"
      ],
      "metadata": {
        "id": "dclpQ88eNHa8"
      }
    },
    {
      "cell_type": "code",
      "source": [
        "df_upg.head()"
      ],
      "metadata": {
        "id": "l28Ng095tE5O"
      },
      "execution_count": null,
      "outputs": []
    },
    {
      "cell_type": "code",
      "source": [
        "df_fight.head()"
      ],
      "metadata": {
        "id": "7nawA_Drw7Cv"
      },
      "execution_count": null,
      "outputs": []
    },
    {
      "cell_type": "code",
      "source": [
        "df_fight.groupby('Town')['fight_value'].sum().sort_values(ascending = True).plot(kind='barh')"
      ],
      "metadata": {
        "id": "TZ6e1N3_tx0q"
      },
      "execution_count": null,
      "outputs": []
    },
    {
      "cell_type": "code",
      "source": [
        "df_flyer_concat = df_flyer.groupby('Town')['flyer_value'].sum()\n",
        "df_ranged_concat= df_ranged.groupby('Town')['ranged_value'].sum()\n",
        "df_fight_concat = df_fight.groupby('Town')['fight_value'].sum()\n",
        "df_speed_concat = df_upg.groupby('Town')['Spd'].mean()"
      ],
      "metadata": {
        "id": "iSoNB642tx6X"
      },
      "execution_count": null,
      "outputs": []
    },
    {
      "cell_type": "code",
      "source": [
        "df_regplot = pd.concat([df_ranged_concat, df_flyer_concat, df_fight_concat, df_speed_concat], axis =1)\n",
        "df_regplot = df_regplot.reset_index()\n",
        "df_regplot.sort_values('fight_value', ascending = False)"
      ],
      "metadata": {
        "id": "kQvd81EJns2j"
      },
      "execution_count": null,
      "outputs": []
    },
    {
      "cell_type": "code",
      "source": [],
      "metadata": {
        "id": "-f_Oi-Mdn2ni"
      },
      "execution_count": null,
      "outputs": []
    },
    {
      "cell_type": "code",
      "source": [
        "plt.figure(figsize=(10, 6))\n",
        "\n",
        "sns.scatterplot(data=df_regplot, x = 'ranged_value', y= 'flyer_value', size = 'fight_value', sizes= (60,500), hue = 'Spd' , legend='brief')\n",
        "\n",
        "# plt.legend(['Average speed', 'Fight value'])\n",
        "plt.legend(fontsize='xx-small')\n",
        "\n",
        "text_objects = []\n",
        "\n",
        "for line in range(0,df_regplot.shape[0]):\n",
        "     text_objects.append(plt.text(df_regplot.ranged_value[line] + 1, df_regplot.flyer_value[line] + 1, df_regplot.Town[line],\n",
        "              horizontalalignment='left',\n",
        "              verticalalignment='top',\n",
        "              size='xx-small',\n",
        "              color='black',\n",
        "              weight='semibold'))\n",
        "     adjust_text(text_objects)\n",
        "\n",
        "plt.xticks(fontsize = 8)\n",
        "plt.yticks(fontsize = 8)\n",
        "\n",
        "plt.xlabel(\"ranged_value\")\n",
        "plt.ylabel(\"flyer_value\")\n",
        "plt.title('Ranged (x) vs Flyer (y) vs Fight (size) vs Speed (color)')\n",
        "\n",
        "\n",
        "plt.savefig('scatter_plot.jpg', format='jpeg', dpi=600)  # Specify the desired file name and format\n",
        "\n",
        "plt.show()\n",
        "# plt.axhline(y=avg_price, color=\"red\", ls= \":\", lw = 0.5)\n",
        "# plt.axvline(x=avg_val, color=\"red\", linestyle=\":\", lw = 0.5)"
      ],
      "metadata": {
        "id": "Ee-2MTnCQYAC"
      },
      "execution_count": null,
      "outputs": []
    },
    {
      "cell_type": "markdown",
      "source": [
        "Defence"
      ],
      "metadata": {
        "id": "YvIouxmorxej"
      }
    },
    {
      "cell_type": "code",
      "source": [],
      "metadata": {
        "id": "XpG6OdKmT7tE"
      },
      "execution_count": null,
      "outputs": []
    },
    {
      "cell_type": "code",
      "source": [],
      "metadata": {
        "id": "uv1VKNfXfghn"
      },
      "execution_count": null,
      "outputs": []
    },
    {
      "cell_type": "code",
      "source": [],
      "metadata": {
        "id": "8GIh_WWzfgkv"
      },
      "execution_count": null,
      "outputs": []
    },
    {
      "cell_type": "code",
      "source": [],
      "metadata": {
        "id": "osZ3v8RfT7vy"
      },
      "execution_count": null,
      "outputs": []
    },
    {
      "cell_type": "code",
      "source": [],
      "metadata": {
        "id": "eFXoyoFdT7yr"
      },
      "execution_count": null,
      "outputs": []
    },
    {
      "cell_type": "code",
      "source": [],
      "metadata": {
        "id": "WkNwpX3zq0TA"
      },
      "execution_count": null,
      "outputs": []
    }
  ]
}